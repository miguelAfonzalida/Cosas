{
  "nbformat": 4,
  "nbformat_minor": 0,
  "metadata": {
    "colab": {
      "name": "Spark 1.ipynb",
      "provenance": [],
      "collapsed_sections": [],
      "authorship_tag": "ABX9TyMFsuRJVRBr/NSX2VIn9nbu",
      "include_colab_link": true
    },
    "kernelspec": {
      "name": "python3",
      "display_name": "Python 3"
    }
  },
  "cells": [
    {
      "cell_type": "markdown",
      "metadata": {
        "id": "view-in-github",
        "colab_type": "text"
      },
      "source": [
        "<a href=\"https://colab.research.google.com/github/miguelAfonzalida/Cosas/blob/master/Spark_1.ipynb\" target=\"_parent\"><img src=\"https://colab.research.google.com/assets/colab-badge.svg\" alt=\"Open In Colab\"/></a>"
      ]
    },
    {
      "cell_type": "code",
      "metadata": {
        "colab": {
          "base_uri": "https://localhost:8080/"
        },
        "id": "Mx0cryrHvcPE",
        "outputId": "7454912d-e7b7-47fc-de9c-14c94a7a16b3"
      },
      "source": [
        "!pip install pyspark\r\n",
        "!pip install -U -q PyDrive\r\n",
        "!apt install openjdk-8-jdk-headless -qq\r\n",
        "import os\r\n",
        "os.environ[\"JAVA_HOME\"] = \"/usr/lib/jvm/java-8-openjdk-amd64\""
      ],
      "execution_count": 7,
      "outputs": [
        {
          "output_type": "stream",
          "text": [
            "Collecting pyspark\n",
            "\u001b[?25l  Downloading https://files.pythonhosted.org/packages/45/b0/9d6860891ab14a39d4bddf80ba26ce51c2f9dc4805e5c6978ac0472c120a/pyspark-3.1.1.tar.gz (212.3MB)\n",
            "\u001b[K     |████████████████████████████████| 212.3MB 73kB/s \n",
            "\u001b[?25hCollecting py4j==0.10.9\n",
            "\u001b[?25l  Downloading https://files.pythonhosted.org/packages/9e/b6/6a4fb90cd235dc8e265a6a2067f2a2c99f0d91787f06aca4bcf7c23f3f80/py4j-0.10.9-py2.py3-none-any.whl (198kB)\n",
            "\u001b[K     |████████████████████████████████| 204kB 22.0MB/s \n",
            "\u001b[?25hBuilding wheels for collected packages: pyspark\n",
            "  Building wheel for pyspark (setup.py) ... \u001b[?25l\u001b[?25hdone\n",
            "  Created wheel for pyspark: filename=pyspark-3.1.1-py2.py3-none-any.whl size=212767604 sha256=9a06722301471907730cb5fbdce4f081ffafb3ada0fe121a1268053fd964b1b9\n",
            "  Stored in directory: /root/.cache/pip/wheels/0b/90/c0/01de724414ef122bd05f056541fb6a0ecf47c7ca655f8b3c0f\n",
            "Successfully built pyspark\n",
            "Installing collected packages: py4j, pyspark\n",
            "Successfully installed py4j-0.10.9 pyspark-3.1.1\n",
            "The following additional packages will be installed:\n",
            "  openjdk-8-jre-headless\n",
            "Suggested packages:\n",
            "  openjdk-8-demo openjdk-8-source libnss-mdns fonts-dejavu-extra\n",
            "  fonts-ipafont-gothic fonts-ipafont-mincho fonts-wqy-microhei\n",
            "  fonts-wqy-zenhei fonts-indic\n",
            "The following NEW packages will be installed:\n",
            "  openjdk-8-jdk-headless openjdk-8-jre-headless\n",
            "0 upgraded, 2 newly installed, 0 to remove and 29 not upgraded.\n",
            "Need to get 36.5 MB of archives.\n",
            "After this operation, 143 MB of additional disk space will be used.\n",
            "Selecting previously unselected package openjdk-8-jre-headless:amd64.\n",
            "(Reading database ... 160975 files and directories currently installed.)\n",
            "Preparing to unpack .../openjdk-8-jre-headless_8u282-b08-0ubuntu1~18.04_amd64.deb ...\n",
            "Unpacking openjdk-8-jre-headless:amd64 (8u282-b08-0ubuntu1~18.04) ...\n",
            "Selecting previously unselected package openjdk-8-jdk-headless:amd64.\n",
            "Preparing to unpack .../openjdk-8-jdk-headless_8u282-b08-0ubuntu1~18.04_amd64.deb ...\n",
            "Unpacking openjdk-8-jdk-headless:amd64 (8u282-b08-0ubuntu1~18.04) ...\n",
            "Setting up openjdk-8-jre-headless:amd64 (8u282-b08-0ubuntu1~18.04) ...\n",
            "update-alternatives: using /usr/lib/jvm/java-8-openjdk-amd64/jre/bin/orbd to provide /usr/bin/orbd (orbd) in auto mode\n",
            "update-alternatives: using /usr/lib/jvm/java-8-openjdk-amd64/jre/bin/servertool to provide /usr/bin/servertool (servertool) in auto mode\n",
            "update-alternatives: using /usr/lib/jvm/java-8-openjdk-amd64/jre/bin/tnameserv to provide /usr/bin/tnameserv (tnameserv) in auto mode\n",
            "Setting up openjdk-8-jdk-headless:amd64 (8u282-b08-0ubuntu1~18.04) ...\n",
            "update-alternatives: using /usr/lib/jvm/java-8-openjdk-amd64/bin/idlj to provide /usr/bin/idlj (idlj) in auto mode\n",
            "update-alternatives: using /usr/lib/jvm/java-8-openjdk-amd64/bin/wsimport to provide /usr/bin/wsimport (wsimport) in auto mode\n",
            "update-alternatives: using /usr/lib/jvm/java-8-openjdk-amd64/bin/jsadebugd to provide /usr/bin/jsadebugd (jsadebugd) in auto mode\n",
            "update-alternatives: using /usr/lib/jvm/java-8-openjdk-amd64/bin/native2ascii to provide /usr/bin/native2ascii (native2ascii) in auto mode\n",
            "update-alternatives: using /usr/lib/jvm/java-8-openjdk-amd64/bin/javah to provide /usr/bin/javah (javah) in auto mode\n",
            "update-alternatives: using /usr/lib/jvm/java-8-openjdk-amd64/bin/hsdb to provide /usr/bin/hsdb (hsdb) in auto mode\n",
            "update-alternatives: using /usr/lib/jvm/java-8-openjdk-amd64/bin/clhsdb to provide /usr/bin/clhsdb (clhsdb) in auto mode\n",
            "update-alternatives: using /usr/lib/jvm/java-8-openjdk-amd64/bin/xjc to provide /usr/bin/xjc (xjc) in auto mode\n",
            "update-alternatives: using /usr/lib/jvm/java-8-openjdk-amd64/bin/schemagen to provide /usr/bin/schemagen (schemagen) in auto mode\n",
            "update-alternatives: using /usr/lib/jvm/java-8-openjdk-amd64/bin/extcheck to provide /usr/bin/extcheck (extcheck) in auto mode\n",
            "update-alternatives: using /usr/lib/jvm/java-8-openjdk-amd64/bin/jhat to provide /usr/bin/jhat (jhat) in auto mode\n",
            "update-alternatives: using /usr/lib/jvm/java-8-openjdk-amd64/bin/wsgen to provide /usr/bin/wsgen (wsgen) in auto mode\n"
          ],
          "name": "stdout"
        }
      ]
    },
    {
      "cell_type": "code",
      "metadata": {
        "id": "2RgNw8ADvnaZ"
      },
      "source": [
        "from pydrive.auth import GoogleAuth\r\n",
        "from pydrive.drive import GoogleDrive\r\n",
        "from google.colab import auth\r\n",
        "from oauth2client.client import GoogleCredentials\r\n",
        "from pyspark.sql import *\r\n",
        "from pyspark.sql.functions import *\r\n",
        "from pyspark import SparkContext\r\n",
        "from pyspark.sql import SQLContext\r\n",
        "import pandas as pd"
      ],
      "execution_count": 8,
      "outputs": []
    },
    {
      "cell_type": "markdown",
      "metadata": {
        "id": "vpdqQvUFv3jA"
      },
      "source": [
        "## Autenticamos con Google Drive"
      ]
    },
    {
      "cell_type": "code",
      "metadata": {
        "id": "mdz14N2wvzTt"
      },
      "source": [
        "auth.authenticate_user()\r\n",
        "gauth = GoogleAuth()\r\n",
        "gauth.credentials = GoogleCredentials.get_application_default()\r\n",
        "drive = GoogleDrive(gauth)"
      ],
      "execution_count": 9,
      "outputs": []
    },
    {
      "cell_type": "markdown",
      "metadata": {
        "id": "pzMfqrnYyT-u"
      },
      "source": [
        "## Creamos el Spark Context"
      ]
    },
    {
      "cell_type": "code",
      "metadata": {
        "id": "WLjURM-AxFIr"
      },
      "source": [
        "# create the Spark Session\r\n",
        "spark = SparkSession.builder.getOrCreate()\r\n",
        "\r\n",
        "# create the Spark Context\r\n",
        "sc = spark.sparkContext\r\n",
        "\r\n",
        "#sqlContext = SQLContext(sc)"
      ],
      "execution_count": 10,
      "outputs": []
    },
    {
      "cell_type": "code",
      "metadata": {
        "colab": {
          "base_uri": "https://localhost:8080/",
          "height": 191
        },
        "id": "nsF49acWjlnz",
        "outputId": "bf97e2b2-a4e5-4b28-89b4-047cdd9081fd"
      },
      "source": [
        "sc"
      ],
      "execution_count": 18,
      "outputs": [
        {
          "output_type": "execute_result",
          "data": {
            "text/html": [
              "\n",
              "        <div>\n",
              "            <p><b>SparkContext</b></p>\n",
              "\n",
              "            <p><a href=\"http://9dd46f322ea7:4040\">Spark UI</a></p>\n",
              "\n",
              "            <dl>\n",
              "              <dt>Version</dt>\n",
              "                <dd><code>v3.1.1</code></dd>\n",
              "              <dt>Master</dt>\n",
              "                <dd><code>local[*]</code></dd>\n",
              "              <dt>AppName</dt>\n",
              "                <dd><code>pyspark-shell</code></dd>\n",
              "            </dl>\n",
              "        </div>\n",
              "        "
            ],
            "text/plain": [
              "<SparkContext master=local[*] appName=pyspark-shell>"
            ]
          },
          "metadata": {
            "tags": []
          },
          "execution_count": 18
        }
      ]
    },
    {
      "cell_type": "markdown",
      "metadata": {
        "id": "XL928fSQtrj9"
      },
      "source": [
        "## Ejercicios"
      ]
    },
    {
      "cell_type": "markdown",
      "metadata": {
        "id": "KjASoxluttDO"
      },
      "source": [
        "1. Suma de los numeros de una lista utilizando RDD"
      ]
    },
    {
      "cell_type": "code",
      "metadata": {
        "id": "9BbNFs9R3V3Y"
      },
      "source": [
        "from IPython.display import Image\n",
        "try:\n",
        "  filename = take_photo()\n",
        "  print('Saved to {}'.format(filename))\n",
        "  \n",
        "  # Show the image which was just taken.\n",
        "  display(Image(filename))\n",
        "except Exception as err:\n",
        "  # Errors will be thrown if the user does not have a webcam or if they do not\n",
        "  # grant the page permission to access it.\n",
        "  print(str(err))"
      ],
      "execution_count": null,
      "outputs": []
    },
    {
      "cell_type": "code",
      "metadata": {
        "id": "uoVSPFMOw2fy"
      },
      "source": [
        "lista = [2,4,7,9,8,1,2,0,1,2]\r\n",
        "#La suma debería ser 36"
      ],
      "execution_count": 22,
      "outputs": []
    },
    {
      "cell_type": "code",
      "metadata": {
        "colab": {
          "base_uri": "https://localhost:8080/"
        },
        "id": "NTPYad1KyuBT",
        "outputId": "e97d961a-ae3b-4520-e714-b3e3109ba2be"
      },
      "source": [
        "type(lista)"
      ],
      "execution_count": 23,
      "outputs": [
        {
          "output_type": "execute_result",
          "data": {
            "text/plain": [
              "list"
            ]
          },
          "metadata": {
            "tags": []
          },
          "execution_count": 23
        }
      ]
    },
    {
      "cell_type": "code",
      "metadata": {
        "id": "0buFoVT6yt-d"
      },
      "source": [
        "rdd_1 = sc.parallelize(lista)"
      ],
      "execution_count": 24,
      "outputs": []
    },
    {
      "cell_type": "code",
      "metadata": {
        "colab": {
          "base_uri": "https://localhost:8080/"
        },
        "id": "KdgC9oFByt73",
        "outputId": "515d8f91-941d-411a-a32b-730b207c2898"
      },
      "source": [
        "#Cantidad de registros\r\n",
        "rdd_1.count()"
      ],
      "execution_count": 26,
      "outputs": [
        {
          "output_type": "execute_result",
          "data": {
            "text/plain": [
              "10"
            ]
          },
          "metadata": {
            "tags": []
          },
          "execution_count": 26
        }
      ]
    },
    {
      "cell_type": "markdown",
      "metadata": {
        "id": "GxPMTb4zzIiu"
      },
      "source": [
        "En este caso cada registro es un número, cada registro podría interpretarse como una tupla de un elemento también.\r\n",
        "Para obtener la suma de los números, osea la suma de los registros voy a utilizar REDUCE (acción) que me devuelve un único registro final resultado con el mismo formato que tenian los registros inicialmente. Es decir que con reduce voy a obtener el acumulado del las sumas y el resultado final es simplemente un registro con contenido de un número, igual formato que los 10 registros anteriores."
      ]
    },
    {
      "cell_type": "code",
      "metadata": {
        "id": "bKA2_Hf7yt5S"
      },
      "source": [
        "total_suma = rdd_1.reduce(lambda x,y: x+y)"
      ],
      "execution_count": 27,
      "outputs": []
    },
    {
      "cell_type": "code",
      "metadata": {
        "colab": {
          "base_uri": "https://localhost:8080/"
        },
        "id": "rdB80XA6yt2g",
        "outputId": "202b5d11-55cf-48ce-e4e8-393c82918993"
      },
      "source": [
        "total_suma"
      ],
      "execution_count": 30,
      "outputs": [
        {
          "output_type": "execute_result",
          "data": {
            "text/plain": [
              "36"
            ]
          },
          "metadata": {
            "tags": []
          },
          "execution_count": 30
        }
      ]
    },
    {
      "cell_type": "markdown",
      "metadata": {
        "id": "Eg2P_mjqtj34"
      },
      "source": [
        "2. Valor Máximo de registros que están representados por números"
      ]
    },
    {
      "cell_type": "code",
      "metadata": {
        "id": "HGJWdOZlytz7"
      },
      "source": [
        "lista = [2,4,7,9,8,1,2,0,1,2]\r\n",
        "#El máximo sería 9"
      ],
      "execution_count": 31,
      "outputs": []
    },
    {
      "cell_type": "code",
      "metadata": {
        "colab": {
          "base_uri": "https://localhost:8080/"
        },
        "id": "JMkFL_BPytxA",
        "outputId": "622ade79-0e96-4e53-d24e-459209aa25d5"
      },
      "source": [
        "mayor = rdd_1.reduce(lambda x,y: x if x>y else y)\r\n",
        "mayor"
      ],
      "execution_count": 32,
      "outputs": [
        {
          "output_type": "execute_result",
          "data": {
            "text/plain": [
              "9"
            ]
          },
          "metadata": {
            "tags": []
          },
          "execution_count": 32
        }
      ]
    },
    {
      "cell_type": "markdown",
      "metadata": {
        "id": "6GKW3dsruM_c"
      },
      "source": [
        "* Otra forma que utiliza una función para reduce"
      ]
    },
    {
      "cell_type": "code",
      "metadata": {
        "id": "aHv3cvrLytaa"
      },
      "source": [
        "def max(x,y):\r\n",
        "    if x>y:\r\n",
        "        return x\r\n",
        "    else:\r\n",
        "        return y"
      ],
      "execution_count": 34,
      "outputs": []
    },
    {
      "cell_type": "code",
      "metadata": {
        "colab": {
          "base_uri": "https://localhost:8080/"
        },
        "id": "r_fR_vxVuCxl",
        "outputId": "299caa9b-80eb-4ef6-bed1-2a94cf2f3ac8"
      },
      "source": [
        "rdd_1.reduce(lambda x,y: max(x,y))"
      ],
      "execution_count": 36,
      "outputs": [
        {
          "output_type": "execute_result",
          "data": {
            "text/plain": [
              "9"
            ]
          },
          "metadata": {
            "tags": []
          },
          "execution_count": 36
        }
      ]
    },
    {
      "cell_type": "markdown",
      "metadata": {
        "id": "5RQutnzm1piz"
      },
      "source": [
        "Valor mínimo"
      ]
    },
    {
      "cell_type": "code",
      "metadata": {
        "colab": {
          "base_uri": "https://localhost:8080/"
        },
        "id": "WzlQVyXmuCug",
        "outputId": "577e8aac-0f2f-48bb-a724-fa9a18f765ac"
      },
      "source": [
        "rdd_1.reduce(lambda x,y: x if x<y else y)"
      ],
      "execution_count": 37,
      "outputs": [
        {
          "output_type": "execute_result",
          "data": {
            "text/plain": [
              "0"
            ]
          },
          "metadata": {
            "tags": []
          },
          "execution_count": 37
        }
      ]
    },
    {
      "cell_type": "markdown",
      "metadata": {
        "id": "UGmVclOo2cEz"
      },
      "source": [
        "* Si quiero el menor, estaría mal ordenal de de menor a mayor y pedirle el primero con Takeordered ya que estoy ordenando al pedo. Pero si me piden los tres menores entonces sí demo utilizar tekeOrdered(3)."
      ]
    },
    {
      "cell_type": "markdown",
      "metadata": {
        "id": "nJyD-wOU2oYr"
      },
      "source": [
        "* Los cinco menores"
      ]
    },
    {
      "cell_type": "code",
      "metadata": {
        "colab": {
          "base_uri": "https://localhost:8080/"
        },
        "id": "qHVolj-puCml",
        "outputId": "39208dba-76ad-49f7-952c-cc26af93b531"
      },
      "source": [
        "rdd_1.takeOrdered(5)"
      ],
      "execution_count": 40,
      "outputs": [
        {
          "output_type": "execute_result",
          "data": {
            "text/plain": [
              "[0, 1, 1, 2, 2]"
            ]
          },
          "metadata": {
            "tags": []
          },
          "execution_count": 40
        }
      ]
    },
    {
      "cell_type": "code",
      "metadata": {
        "colab": {
          "base_uri": "https://localhost:8080/"
        },
        "id": "Ew52Ai5YuCjw",
        "outputId": "58f2eba4-fa23-4c2f-8a4a-a598c90225ec"
      },
      "source": [
        "#Por defecto ordena de menor a mayor, osea lo anterior es lo mismo que\r\n",
        "rdd_1.takeOrdered(5,lambda x: x)"
      ],
      "execution_count": 41,
      "outputs": [
        {
          "output_type": "execute_result",
          "data": {
            "text/plain": [
              "[0, 1, 1, 2, 2]"
            ]
          },
          "metadata": {
            "tags": []
          },
          "execution_count": 41
        }
      ]
    },
    {
      "cell_type": "code",
      "metadata": {
        "colab": {
          "base_uri": "https://localhost:8080/"
        },
        "id": "ITaZzDry26xI",
        "outputId": "7e08f104-0c54-4406-9209-2f0277b15401"
      },
      "source": [
        "#Acá si ultilizo la función lambda para oredenar de mayor a menor. \r\n",
        "#Si tengo tuplas especifíco por cual (o cuales) subíndice de x quiero ordenar.\r\n",
        "rdd_1.takeOrdered(5,lambda x: -x)"
      ],
      "execution_count": 46,
      "outputs": [
        {
          "output_type": "execute_result",
          "data": {
            "text/plain": [
              "[9, 8, 7, 4, 2]"
            ]
          },
          "metadata": {
            "tags": []
          },
          "execution_count": 46
        }
      ]
    },
    {
      "cell_type": "markdown",
      "metadata": {
        "id": "7UHMh-vY5BKg"
      },
      "source": [
        "## Promedio de los registros (en este caso los registros son números)"
      ]
    },
    {
      "cell_type": "markdown",
      "metadata": {
        "id": "2SxbCfkw5GV7"
      },
      "source": [
        "* Forma 1"
      ]
    },
    {
      "cell_type": "markdown",
      "metadata": {
        "id": "6AEZ4l3g5TyQ"
      },
      "source": [
        "### Quiero tener una tupla con el total de la suma en una componente y el total de números en la otra (para tener formato tuplas como registros y para poder contar a los registros actuales (que en este caso son solo números) a cada número le asigno el valor \"1\" en una tupla)"
      ]
    },
    {
      "cell_type": "code",
      "metadata": {
        "colab": {
          "base_uri": "https://localhost:8080/"
        },
        "id": "bwP4ernC263c",
        "outputId": "340bddb2-3a58-4ac2-cb01-5aec5e9fa5f9"
      },
      "source": [
        "#Esto no se bebe hacer, aca solo estoy viendo cosas para mí\r\n",
        "rdd_1.collect()"
      ],
      "execution_count": 49,
      "outputs": [
        {
          "output_type": "execute_result",
          "data": {
            "text/plain": [
              "[2, 4, 7, 9, 8, 1, 2, 0, 1, 2]"
            ]
          },
          "metadata": {
            "tags": []
          },
          "execution_count": 49
        }
      ]
    },
    {
      "cell_type": "code",
      "metadata": {
        "colab": {
          "base_uri": "https://localhost:8080/"
        },
        "id": "8WpJlIQN266i",
        "outputId": "897c2394-06e5-479d-a9a5-d6f8316a7ac0"
      },
      "source": [
        "#Esto no se hace, es solo para ver como queda el formato de los nuevos registros como tuplas\r\n",
        "rdd_1.map(lambda x: (x,1)).collect()"
      ],
      "execution_count": 51,
      "outputs": [
        {
          "output_type": "execute_result",
          "data": {
            "text/plain": [
              "[(2, 1),\n",
              " (4, 1),\n",
              " (7, 1),\n",
              " (9, 1),\n",
              " (8, 1),\n",
              " (1, 1),\n",
              " (2, 1),\n",
              " (0, 1),\n",
              " (1, 1),\n",
              " (2, 1)]"
            ]
          },
          "metadata": {
            "tags": []
          },
          "execution_count": 51
        }
      ]
    },
    {
      "cell_type": "markdown",
      "metadata": {
        "id": "JcRow408DL4K"
      },
      "source": [
        "* ALTO: solo para aclarar. ¿Cuántos registros tengo por clave? tomando como clave a cada número:"
      ]
    },
    {
      "cell_type": "code",
      "metadata": {
        "colab": {
          "base_uri": "https://localhost:8080/"
        },
        "id": "tyDyNlCM269h",
        "outputId": "ff8dfa54-16ce-4dd0-fcbc-43085bc3980b"
      },
      "source": [
        "rdd_1.map(lambda x: (x,1)).countByKey()"
      ],
      "execution_count": 52,
      "outputs": [
        {
          "output_type": "execute_result",
          "data": {
            "text/plain": [
              "defaultdict(int, {0: 1, 1: 2, 2: 3, 4: 1, 7: 1, 8: 1, 9: 1})"
            ]
          },
          "metadata": {
            "tags": []
          },
          "execution_count": 52
        }
      ]
    },
    {
      "cell_type": "code",
      "metadata": {
        "colab": {
          "base_uri": "https://localhost:8080/"
        },
        "id": "hiQzpugE27AC",
        "outputId": "ab4ee541-5d27-47d6-ab16-28745575929b"
      },
      "source": [
        "#Quiero, para los registros con clave = 2, saber su cantidad:\r\n",
        "rdd_1.map(lambda x: (x,1)).countByKey()[2]"
      ],
      "execution_count": 57,
      "outputs": [
        {
          "output_type": "execute_result",
          "data": {
            "text/plain": [
              "3"
            ]
          },
          "metadata": {
            "tags": []
          },
          "execution_count": 57
        }
      ]
    },
    {
      "cell_type": "code",
      "metadata": {
        "colab": {
          "base_uri": "https://localhost:8080/"
        },
        "id": "6yHzIytv27C3",
        "outputId": "a9f6c4c0-13e5-47e8-bf63-8f8de907bda9"
      },
      "source": [
        "#las cantidades asociadas a las claves las obtengo con values()\r\n",
        "rdd_1.map(lambda x: (x,1)).countByKey().values()"
      ],
      "execution_count": 58,
      "outputs": [
        {
          "output_type": "execute_result",
          "data": {
            "text/plain": [
              "dict_values([3, 1, 1, 1, 1, 2, 1])"
            ]
          },
          "metadata": {
            "tags": []
          },
          "execution_count": 58
        }
      ]
    },
    {
      "cell_type": "code",
      "metadata": {
        "colab": {
          "base_uri": "https://localhost:8080/"
        },
        "id": "7hNrJsqE27FK",
        "outputId": "ae1e1892-841e-495e-d549-ab8031af1138"
      },
      "source": [
        "rdd_1.map(lambda x: (x,1)).countByKey()[0]"
      ],
      "execution_count": 59,
      "outputs": [
        {
          "output_type": "execute_result",
          "data": {
            "text/plain": [
              "1"
            ]
          },
          "metadata": {
            "tags": []
          },
          "execution_count": 59
        }
      ]
    },
    {
      "cell_type": "markdown",
      "metadata": {
        "id": "b_6Cu3AQEWwm"
      },
      "source": [
        "#### Ahora sigo con el cálculo del promedio (Ver que en el reduce no puedo dar nuevo formato al los registros, debo respetar las tuplas, acá en el primer comonente de la tupla poco la suma total acumulada y en la segunda componente pongo el total de numeros que sumé)"
      ]
    },
    {
      "cell_type": "code",
      "metadata": {
        "colab": {
          "base_uri": "https://localhost:8080/"
        },
        "id": "dtykEnM727H3",
        "outputId": "e0f22aaa-dba9-4176-e279-e6ded490e579"
      },
      "source": [
        "rdd_1.map(lambda x: (x,1)).reduce(lambda x,y: (x[0] + y[0], x[1] + y[1] ))"
      ],
      "execution_count": 61,
      "outputs": [
        {
          "output_type": "execute_result",
          "data": {
            "text/plain": [
              "(36, 10)"
            ]
          },
          "metadata": {
            "tags": []
          },
          "execution_count": 61
        }
      ]
    },
    {
      "cell_type": "code",
      "metadata": {
        "id": "7X0arOFDuCg4"
      },
      "source": [
        "result = rdd_1.map(lambda x: (x,1)).reduce(lambda x,y: (x[0] + y[0], x[1] + y[1] ))"
      ],
      "execution_count": 62,
      "outputs": []
    },
    {
      "cell_type": "code",
      "metadata": {
        "colab": {
          "base_uri": "https://localhost:8080/"
        },
        "id": "1lBkVmP3Enr6",
        "outputId": "237ae9ee-9b23-49d4-bd8f-4c3e08d5af8e"
      },
      "source": [
        "result"
      ],
      "execution_count": 63,
      "outputs": [
        {
          "output_type": "execute_result",
          "data": {
            "text/plain": [
              "(36, 10)"
            ]
          },
          "metadata": {
            "tags": []
          },
          "execution_count": 63
        }
      ]
    },
    {
      "cell_type": "code",
      "metadata": {
        "colab": {
          "base_uri": "https://localhost:8080/"
        },
        "id": "NXlQjvPhEwBk",
        "outputId": "b2e77384-f2fa-46c9-c439-703038230736"
      },
      "source": [
        "result[0]"
      ],
      "execution_count": 64,
      "outputs": [
        {
          "output_type": "execute_result",
          "data": {
            "text/plain": [
              "36"
            ]
          },
          "metadata": {
            "tags": []
          },
          "execution_count": 64
        }
      ]
    },
    {
      "cell_type": "markdown",
      "metadata": {
        "id": "VwaJXqzOIF_-"
      },
      "source": [
        "* Ojo reduce me devuelve solo un registro con el formato del tipo de dato de cada registro del RDD.\r\n",
        "* Ya no tengo más al RDD tengo el tipo de dato que tenían los registros que estaba en el RDD. Por lo que a ese tipo de datos luego del \"reduce\" no puedo aplicar transformaciónes ni acciones"
      ]
    },
    {
      "cell_type": "code",
      "metadata": {
        "colab": {
          "base_uri": "https://localhost:8080/"
        },
        "id": "0v9fHfIqHqJa",
        "outputId": "ced0e2ed-9343-4fc6-9ae7-47802614b6a8"
      },
      "source": [
        "type(result)"
      ],
      "execution_count": 68,
      "outputs": [
        {
          "output_type": "execute_result",
          "data": {
            "text/plain": [
              "tuple"
            ]
          },
          "metadata": {
            "tags": []
          },
          "execution_count": 68
        }
      ]
    },
    {
      "cell_type": "code",
      "metadata": {
        "colab": {
          "base_uri": "https://localhost:8080/"
        },
        "id": "by416t5_EoyL",
        "outputId": "5cc744b6-eb7e-4961-8e57-3b574db3fde2"
      },
      "source": [
        "promedio = result[0]/result[1]\r\n",
        "promedio"
      ],
      "execution_count": 65,
      "outputs": [
        {
          "output_type": "execute_result",
          "data": {
            "text/plain": [
              "3.6"
            ]
          },
          "metadata": {
            "tags": []
          },
          "execution_count": 65
        }
      ]
    },
    {
      "cell_type": "markdown",
      "metadata": {
        "id": "l8O-yeQgHN5I"
      },
      "source": [
        "### Esto está mal ojo!!!!"
      ]
    },
    {
      "cell_type": "code",
      "metadata": {
        "id": "m8e7bYAiEo38"
      },
      "source": [
        "#Esto está mal!!! luego de una acción no puedo aplicar una trasformación. Además luego del Reduce ya no tengo un RDD\r\n",
        "#rdd_1.map(lambda x: (x,1)).reduce(lambda x,y: (x[0] + y[0], x[1] + y[1] )).map(lambda x:x)"
      ],
      "execution_count": 75,
      "outputs": []
    },
    {
      "cell_type": "markdown",
      "metadata": {
        "id": "x4CYyU3CLuAZ"
      },
      "source": [
        "* Forma 2 (no utilizo tuplas sino que solamente obtengo la suma de los números(registros) y utilizo la acción count para luego calcular el promedio)"
      ]
    },
    {
      "cell_type": "code",
      "metadata": {
        "id": "XqsFXSOuEo-M"
      },
      "source": [
        "cant_reg = rdd_1.count()"
      ],
      "execution_count": 76,
      "outputs": []
    },
    {
      "cell_type": "code",
      "metadata": {
        "id": "PHNZ9ZA7EpBO"
      },
      "source": [
        "total_suma = rdd_1.reduce(lambda x,y: x+y)"
      ],
      "execution_count": 77,
      "outputs": []
    },
    {
      "cell_type": "code",
      "metadata": {
        "colab": {
          "base_uri": "https://localhost:8080/"
        },
        "id": "XlSMcjXjEpER",
        "outputId": "b8a39298-6c6f-46bf-a22d-581f9de87723"
      },
      "source": [
        "promedio = total_suma/cant_reg\r\n",
        "promedio"
      ],
      "execution_count": 78,
      "outputs": [
        {
          "output_type": "execute_result",
          "data": {
            "text/plain": [
              "3.6"
            ]
          },
          "metadata": {
            "tags": []
          },
          "execution_count": 78
        }
      ]
    },
    {
      "cell_type": "code",
      "metadata": {
        "id": "8YpJyCSEEpHA"
      },
      "source": [
        ""
      ],
      "execution_count": null,
      "outputs": []
    },
    {
      "cell_type": "code",
      "metadata": {
        "id": "DEHZw8Z5EpKI"
      },
      "source": [
        ""
      ],
      "execution_count": null,
      "outputs": []
    },
    {
      "cell_type": "code",
      "metadata": {
        "id": "l316f89XEpMV"
      },
      "source": [
        ""
      ],
      "execution_count": null,
      "outputs": []
    },
    {
      "cell_type": "code",
      "metadata": {
        "id": "x-IUpl-ZEpPL"
      },
      "source": [
        ""
      ],
      "execution_count": null,
      "outputs": []
    },
    {
      "cell_type": "code",
      "metadata": {
        "id": "dXR9FXolEpR6"
      },
      "source": [
        ""
      ],
      "execution_count": null,
      "outputs": []
    },
    {
      "cell_type": "code",
      "metadata": {
        "id": "OPZzlGYSEpUg"
      },
      "source": [
        ""
      ],
      "execution_count": null,
      "outputs": []
    },
    {
      "cell_type": "code",
      "metadata": {
        "id": "Bk9sAcVEEpXh"
      },
      "source": [
        ""
      ],
      "execution_count": null,
      "outputs": []
    }
  ]
}