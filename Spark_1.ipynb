{
  "nbformat": 4,
  "nbformat_minor": 0,
  "metadata": {
    "colab": {
      "name": "Spark 1.ipynb",
      "provenance": [],
      "collapsed_sections": [],
      "authorship_tag": "ABX9TyPEM/tfS5sDmT51nE4+wwoe",
      "include_colab_link": true
    },
    "kernelspec": {
      "name": "python3",
      "display_name": "Python 3"
    }
  },
  "cells": [
    {
      "cell_type": "markdown",
      "metadata": {
        "id": "view-in-github",
        "colab_type": "text"
      },
      "source": [
        "<a href=\"https://colab.research.google.com/github/miguelAfonzalida/Cosas/blob/master/Spark_1.ipynb\" target=\"_parent\"><img src=\"https://colab.research.google.com/assets/colab-badge.svg\" alt=\"Open In Colab\"/></a>"
      ]
    },
    {
      "cell_type": "code",
      "metadata": {
        "colab": {
          "base_uri": "https://localhost:8080/"
        },
        "id": "Mx0cryrHvcPE",
        "outputId": "21df2d9f-4d06-4f1e-a81c-ff3892d443ca"
      },
      "source": [
        "!pip install pyspark\r\n",
        "!pip install -U -q PyDrive\r\n",
        "!apt install openjdk-8-jdk-headless -qq\r\n",
        "import os\r\n",
        "os.environ[\"JAVA_HOME\"] = \"/usr/lib/jvm/java-8-openjdk-amd64\""
      ],
      "execution_count": 2,
      "outputs": [
        {
          "output_type": "stream",
          "text": [
            "Collecting pyspark\n",
            "\u001b[?25l  Downloading https://files.pythonhosted.org/packages/45/b0/9d6860891ab14a39d4bddf80ba26ce51c2f9dc4805e5c6978ac0472c120a/pyspark-3.1.1.tar.gz (212.3MB)\n",
            "\u001b[K     |████████████████████████████████| 212.3MB 76kB/s \n",
            "\u001b[?25hCollecting py4j==0.10.9\n",
            "\u001b[?25l  Downloading https://files.pythonhosted.org/packages/9e/b6/6a4fb90cd235dc8e265a6a2067f2a2c99f0d91787f06aca4bcf7c23f3f80/py4j-0.10.9-py2.py3-none-any.whl (198kB)\n",
            "\u001b[K     |████████████████████████████████| 204kB 19.3MB/s \n",
            "\u001b[?25hBuilding wheels for collected packages: pyspark\n",
            "  Building wheel for pyspark (setup.py) ... \u001b[?25l\u001b[?25hdone\n",
            "  Created wheel for pyspark: filename=pyspark-3.1.1-py2.py3-none-any.whl size=212767604 sha256=208f72a051d0d95ab25f2061e0fd2c1104df5d1362bd104722f417fc30c4e26b\n",
            "  Stored in directory: /root/.cache/pip/wheels/0b/90/c0/01de724414ef122bd05f056541fb6a0ecf47c7ca655f8b3c0f\n",
            "Successfully built pyspark\n",
            "Installing collected packages: py4j, pyspark\n",
            "Successfully installed py4j-0.10.9 pyspark-3.1.1\n",
            "The following additional packages will be installed:\n",
            "  openjdk-8-jre-headless\n",
            "Suggested packages:\n",
            "  openjdk-8-demo openjdk-8-source libnss-mdns fonts-dejavu-extra\n",
            "  fonts-ipafont-gothic fonts-ipafont-mincho fonts-wqy-microhei\n",
            "  fonts-wqy-zenhei fonts-indic\n",
            "The following NEW packages will be installed:\n",
            "  openjdk-8-jdk-headless openjdk-8-jre-headless\n",
            "0 upgraded, 2 newly installed, 0 to remove and 29 not upgraded.\n",
            "Need to get 36.5 MB of archives.\n",
            "After this operation, 143 MB of additional disk space will be used.\n",
            "Selecting previously unselected package openjdk-8-jre-headless:amd64.\n",
            "(Reading database ... 160975 files and directories currently installed.)\n",
            "Preparing to unpack .../openjdk-8-jre-headless_8u282-b08-0ubuntu1~18.04_amd64.deb ...\n",
            "Unpacking openjdk-8-jre-headless:amd64 (8u282-b08-0ubuntu1~18.04) ...\n",
            "Selecting previously unselected package openjdk-8-jdk-headless:amd64.\n",
            "Preparing to unpack .../openjdk-8-jdk-headless_8u282-b08-0ubuntu1~18.04_amd64.deb ...\n",
            "Unpacking openjdk-8-jdk-headless:amd64 (8u282-b08-0ubuntu1~18.04) ...\n",
            "Setting up openjdk-8-jre-headless:amd64 (8u282-b08-0ubuntu1~18.04) ...\n",
            "update-alternatives: using /usr/lib/jvm/java-8-openjdk-amd64/jre/bin/orbd to provide /usr/bin/orbd (orbd) in auto mode\n",
            "update-alternatives: using /usr/lib/jvm/java-8-openjdk-amd64/jre/bin/servertool to provide /usr/bin/servertool (servertool) in auto mode\n",
            "update-alternatives: using /usr/lib/jvm/java-8-openjdk-amd64/jre/bin/tnameserv to provide /usr/bin/tnameserv (tnameserv) in auto mode\n",
            "Setting up openjdk-8-jdk-headless:amd64 (8u282-b08-0ubuntu1~18.04) ...\n",
            "update-alternatives: using /usr/lib/jvm/java-8-openjdk-amd64/bin/idlj to provide /usr/bin/idlj (idlj) in auto mode\n",
            "update-alternatives: using /usr/lib/jvm/java-8-openjdk-amd64/bin/wsimport to provide /usr/bin/wsimport (wsimport) in auto mode\n",
            "update-alternatives: using /usr/lib/jvm/java-8-openjdk-amd64/bin/jsadebugd to provide /usr/bin/jsadebugd (jsadebugd) in auto mode\n",
            "update-alternatives: using /usr/lib/jvm/java-8-openjdk-amd64/bin/native2ascii to provide /usr/bin/native2ascii (native2ascii) in auto mode\n",
            "update-alternatives: using /usr/lib/jvm/java-8-openjdk-amd64/bin/javah to provide /usr/bin/javah (javah) in auto mode\n",
            "update-alternatives: using /usr/lib/jvm/java-8-openjdk-amd64/bin/hsdb to provide /usr/bin/hsdb (hsdb) in auto mode\n",
            "update-alternatives: using /usr/lib/jvm/java-8-openjdk-amd64/bin/clhsdb to provide /usr/bin/clhsdb (clhsdb) in auto mode\n",
            "update-alternatives: using /usr/lib/jvm/java-8-openjdk-amd64/bin/xjc to provide /usr/bin/xjc (xjc) in auto mode\n",
            "update-alternatives: using /usr/lib/jvm/java-8-openjdk-amd64/bin/schemagen to provide /usr/bin/schemagen (schemagen) in auto mode\n",
            "update-alternatives: using /usr/lib/jvm/java-8-openjdk-amd64/bin/extcheck to provide /usr/bin/extcheck (extcheck) in auto mode\n",
            "update-alternatives: using /usr/lib/jvm/java-8-openjdk-amd64/bin/jhat to provide /usr/bin/jhat (jhat) in auto mode\n",
            "update-alternatives: using /usr/lib/jvm/java-8-openjdk-amd64/bin/wsgen to provide /usr/bin/wsgen (wsgen) in auto mode\n"
          ],
          "name": "stdout"
        }
      ]
    },
    {
      "cell_type": "code",
      "metadata": {
        "id": "2RgNw8ADvnaZ"
      },
      "source": [
        "from pydrive.auth import GoogleAuth\r\n",
        "from pydrive.drive import GoogleDrive\r\n",
        "from google.colab import auth\r\n",
        "from oauth2client.client import GoogleCredentials\r\n",
        "from pyspark.sql import *\r\n",
        "from pyspark.sql.functions import *\r\n",
        "from pyspark import SparkContext\r\n",
        "from pyspark.sql import SQLContext\r\n",
        "import pandas as pd"
      ],
      "execution_count": 4,
      "outputs": []
    },
    {
      "cell_type": "markdown",
      "metadata": {
        "id": "vpdqQvUFv3jA"
      },
      "source": [
        "## Autenticamos con Google Drive"
      ]
    },
    {
      "cell_type": "code",
      "metadata": {
        "id": "mdz14N2wvzTt"
      },
      "source": [
        "auth.authenticate_user()\r\n",
        "gauth = GoogleAuth()\r\n",
        "gauth.credentials = GoogleCredentials.get_application_default()\r\n",
        "drive = GoogleDrive(gauth)"
      ],
      "execution_count": 4,
      "outputs": []
    },
    {
      "cell_type": "markdown",
      "metadata": {
        "id": "pzMfqrnYyT-u"
      },
      "source": [
        "## Creamos el Spark Context"
      ]
    },
    {
      "cell_type": "code",
      "metadata": {
        "id": "WLjURM-AxFIr"
      },
      "source": [
        "# create the Spark Session\r\n",
        "spark = SparkSession.builder.getOrCreate()\r\n",
        "\r\n",
        "# create the Spark Context\r\n",
        "sc = spark.sparkContext\r\n",
        "\r\n",
        "#sqlContext = SQLContext(sc)"
      ],
      "execution_count": 5,
      "outputs": []
    },
    {
      "cell_type": "code",
      "metadata": {
        "colab": {
          "base_uri": "https://localhost:8080/",
          "height": 191
        },
        "id": "nsF49acWjlnz",
        "outputId": "7df80495-50d2-4788-94a4-959fe3e6c34e"
      },
      "source": [
        "sc"
      ],
      "execution_count": 6,
      "outputs": [
        {
          "output_type": "execute_result",
          "data": {
            "text/html": [
              "\n",
              "        <div>\n",
              "            <p><b>SparkContext</b></p>\n",
              "\n",
              "            <p><a href=\"http://4a82666ec5f3:4040\">Spark UI</a></p>\n",
              "\n",
              "            <dl>\n",
              "              <dt>Version</dt>\n",
              "                <dd><code>v3.1.1</code></dd>\n",
              "              <dt>Master</dt>\n",
              "                <dd><code>local[*]</code></dd>\n",
              "              <dt>AppName</dt>\n",
              "                <dd><code>pyspark-shell</code></dd>\n",
              "            </dl>\n",
              "        </div>\n",
              "        "
            ],
            "text/plain": [
              "<SparkContext master=local[*] appName=pyspark-shell>"
            ]
          },
          "metadata": {
            "tags": []
          },
          "execution_count": 6
        }
      ]
    },
    {
      "cell_type": "markdown",
      "metadata": {
        "id": "XL928fSQtrj9"
      },
      "source": [
        "## Ejercicios"
      ]
    },
    {
      "cell_type": "markdown",
      "metadata": {
        "id": "KjASoxluttDO"
      },
      "source": [
        "1. Suma de los numeros de una lista utilizando RDD"
      ]
    },
    {
      "cell_type": "code",
      "metadata": {
        "colab": {
          "base_uri": "https://localhost:8080/"
        },
        "id": "9BbNFs9R3V3Y",
        "outputId": "62432d62-f077-4280-ad8b-6918b211d2f1"
      },
      "source": [
        "from IPython.display import Image\n",
        "try:\n",
        "  filename = take_photo()\n",
        "  print('Saved to {}'.format(filename))\n",
        "  \n",
        "  # Show the image which was just taken.\n",
        "  display(Image(filename))\n",
        "except Exception as err:\n",
        "  # Errors will be thrown if the user does not have a webcam or if they do not\n",
        "  # grant the page permission to access it.\n",
        "  print(str(err))"
      ],
      "execution_count": 7,
      "outputs": [
        {
          "output_type": "stream",
          "text": [
            "name 'take_photo' is not defined\n"
          ],
          "name": "stdout"
        }
      ]
    },
    {
      "cell_type": "code",
      "metadata": {
        "id": "uoVSPFMOw2fy"
      },
      "source": [
        "lista = [2,4,7,9,8,1,2,0,1,2]\r\n",
        "#La suma debería ser 36"
      ],
      "execution_count": 8,
      "outputs": []
    },
    {
      "cell_type": "code",
      "metadata": {
        "colab": {
          "base_uri": "https://localhost:8080/"
        },
        "id": "NTPYad1KyuBT",
        "outputId": "56bf8fc1-4ec8-423b-d304-cc45fd007f38"
      },
      "source": [
        "type(lista)"
      ],
      "execution_count": 9,
      "outputs": [
        {
          "output_type": "execute_result",
          "data": {
            "text/plain": [
              "list"
            ]
          },
          "metadata": {
            "tags": []
          },
          "execution_count": 9
        }
      ]
    },
    {
      "cell_type": "code",
      "metadata": {
        "id": "0buFoVT6yt-d"
      },
      "source": [
        "rdd_1 = sc.parallelize(lista)"
      ],
      "execution_count": 10,
      "outputs": []
    },
    {
      "cell_type": "code",
      "metadata": {
        "colab": {
          "base_uri": "https://localhost:8080/"
        },
        "id": "KdgC9oFByt73",
        "outputId": "8522eba9-e48e-4465-b817-313c9583fc0a"
      },
      "source": [
        "#Cantidad de registros\r\n",
        "rdd_1.count()"
      ],
      "execution_count": 11,
      "outputs": [
        {
          "output_type": "execute_result",
          "data": {
            "text/plain": [
              "10"
            ]
          },
          "metadata": {
            "tags": []
          },
          "execution_count": 11
        }
      ]
    },
    {
      "cell_type": "markdown",
      "metadata": {
        "id": "GxPMTb4zzIiu"
      },
      "source": [
        "En este caso cada registro es un número, cada registro podría interpretarse como una tupla de un elemento también.\r\n",
        "Para obtener la suma de los números, osea la suma de los registros voy a utilizar REDUCE (acción) que me devuelve un único registro final resultado con el mismo formato que tenian los registros inicialmente. Es decir que con reduce voy a obtener el acumulado del las sumas y el resultado final es simplemente un registro con contenido de un número, igual formato que los 10 registros anteriores."
      ]
    },
    {
      "cell_type": "code",
      "metadata": {
        "id": "bKA2_Hf7yt5S"
      },
      "source": [
        "total_suma = rdd_1.reduce(lambda x,y: x+y)"
      ],
      "execution_count": 12,
      "outputs": []
    },
    {
      "cell_type": "code",
      "metadata": {
        "colab": {
          "base_uri": "https://localhost:8080/"
        },
        "id": "rdB80XA6yt2g",
        "outputId": "67bada1c-8f6b-4001-86f6-e9c8295b7619"
      },
      "source": [
        "total_suma"
      ],
      "execution_count": 13,
      "outputs": [
        {
          "output_type": "execute_result",
          "data": {
            "text/plain": [
              "36"
            ]
          },
          "metadata": {
            "tags": []
          },
          "execution_count": 13
        }
      ]
    },
    {
      "cell_type": "markdown",
      "metadata": {
        "id": "Eg2P_mjqtj34"
      },
      "source": [
        "2. Valor Máximo de registros que están representados por números"
      ]
    },
    {
      "cell_type": "code",
      "metadata": {
        "id": "HGJWdOZlytz7"
      },
      "source": [
        "lista = [2,4,7,9,8,1,2,0,1,2]\r\n",
        "#El máximo sería 9"
      ],
      "execution_count": 14,
      "outputs": []
    },
    {
      "cell_type": "code",
      "metadata": {
        "colab": {
          "base_uri": "https://localhost:8080/"
        },
        "id": "JMkFL_BPytxA",
        "outputId": "2c3eff38-2393-48a2-8736-6d779389e2b8"
      },
      "source": [
        "mayor = rdd_1.reduce(lambda x,y: x if x>y else y)\r\n",
        "mayor"
      ],
      "execution_count": 15,
      "outputs": [
        {
          "output_type": "execute_result",
          "data": {
            "text/plain": [
              "9"
            ]
          },
          "metadata": {
            "tags": []
          },
          "execution_count": 15
        }
      ]
    },
    {
      "cell_type": "markdown",
      "metadata": {
        "id": "6GKW3dsruM_c"
      },
      "source": [
        "* Otra forma que utiliza una función para reduce"
      ]
    },
    {
      "cell_type": "code",
      "metadata": {
        "id": "aHv3cvrLytaa"
      },
      "source": [
        "def max(x,y):\r\n",
        "    if x>y:\r\n",
        "        return x\r\n",
        "    else:\r\n",
        "        return y"
      ],
      "execution_count": 16,
      "outputs": []
    },
    {
      "cell_type": "code",
      "metadata": {
        "colab": {
          "base_uri": "https://localhost:8080/"
        },
        "id": "r_fR_vxVuCxl",
        "outputId": "c9974b55-e05e-4c8c-95d1-a07c8f19d380"
      },
      "source": [
        "rdd_1.reduce(lambda x,y: max(x,y))"
      ],
      "execution_count": 17,
      "outputs": [
        {
          "output_type": "execute_result",
          "data": {
            "text/plain": [
              "9"
            ]
          },
          "metadata": {
            "tags": []
          },
          "execution_count": 17
        }
      ]
    },
    {
      "cell_type": "markdown",
      "metadata": {
        "id": "5RQutnzm1piz"
      },
      "source": [
        "Valor mínimo"
      ]
    },
    {
      "cell_type": "code",
      "metadata": {
        "colab": {
          "base_uri": "https://localhost:8080/"
        },
        "id": "WzlQVyXmuCug",
        "outputId": "a8883ed4-217d-415e-cc0b-905a94ce621c"
      },
      "source": [
        "rdd_1.reduce(lambda x,y: x if x<y else y)"
      ],
      "execution_count": 18,
      "outputs": [
        {
          "output_type": "execute_result",
          "data": {
            "text/plain": [
              "0"
            ]
          },
          "metadata": {
            "tags": []
          },
          "execution_count": 18
        }
      ]
    },
    {
      "cell_type": "markdown",
      "metadata": {
        "id": "UGmVclOo2cEz"
      },
      "source": [
        "* Si quiero el menor, estaría mal ordenal de de menor a mayor y pedirle el primero con Takeordered ya que estoy ordenando al pedo. Pero si me piden los tres menores entonces sí demo utilizar tekeOrdered(3)."
      ]
    },
    {
      "cell_type": "markdown",
      "metadata": {
        "id": "nJyD-wOU2oYr"
      },
      "source": [
        "* Los cinco menores"
      ]
    },
    {
      "cell_type": "code",
      "metadata": {
        "colab": {
          "base_uri": "https://localhost:8080/"
        },
        "id": "qHVolj-puCml",
        "outputId": "b94e1b71-d533-4f1d-e420-bdb7531f9097"
      },
      "source": [
        "rdd_1.takeOrdered(5)"
      ],
      "execution_count": 19,
      "outputs": [
        {
          "output_type": "execute_result",
          "data": {
            "text/plain": [
              "[0, 1, 1, 2, 2]"
            ]
          },
          "metadata": {
            "tags": []
          },
          "execution_count": 19
        }
      ]
    },
    {
      "cell_type": "code",
      "metadata": {
        "colab": {
          "base_uri": "https://localhost:8080/"
        },
        "id": "Ew52Ai5YuCjw",
        "outputId": "6e3622ba-1113-4336-c7e7-16024204e545"
      },
      "source": [
        "#Por defecto ordena de menor a mayor, osea lo anterior es lo mismo que\r\n",
        "rdd_1.takeOrdered(5,lambda x: x)"
      ],
      "execution_count": 20,
      "outputs": [
        {
          "output_type": "execute_result",
          "data": {
            "text/plain": [
              "[0, 1, 1, 2, 2]"
            ]
          },
          "metadata": {
            "tags": []
          },
          "execution_count": 20
        }
      ]
    },
    {
      "cell_type": "code",
      "metadata": {
        "colab": {
          "base_uri": "https://localhost:8080/"
        },
        "id": "ITaZzDry26xI",
        "outputId": "4d2b2539-7be5-45fc-b7f4-be5c6f6cdd6a"
      },
      "source": [
        "#Acá si ultilizo la función lambda para oredenar de mayor a menor. \r\n",
        "#Si tengo tuplas especifíco por cual (o cuales) subíndice de x quiero ordenar.\r\n",
        "rdd_1.takeOrdered(5,lambda x: -x)"
      ],
      "execution_count": 22,
      "outputs": [
        {
          "output_type": "execute_result",
          "data": {
            "text/plain": [
              "[9, 8, 7, 4, 2]"
            ]
          },
          "metadata": {
            "tags": []
          },
          "execution_count": 22
        }
      ]
    },
    {
      "cell_type": "markdown",
      "metadata": {
        "id": "7UHMh-vY5BKg"
      },
      "source": [
        "## Promedio de los registros (en este caso los registros son números)"
      ]
    },
    {
      "cell_type": "markdown",
      "metadata": {
        "id": "2SxbCfkw5GV7"
      },
      "source": [
        "* Forma 1"
      ]
    },
    {
      "cell_type": "markdown",
      "metadata": {
        "id": "6AEZ4l3g5TyQ"
      },
      "source": [
        "### Quiero tener una tupla con el total de la suma en una componente y el total de números en la otra (para tener formato tuplas como registros y para poder contar a los registros actuales (que en este caso son solo números) a cada número le asigno el valor \"1\" en una tupla)"
      ]
    },
    {
      "cell_type": "code",
      "metadata": {
        "colab": {
          "base_uri": "https://localhost:8080/"
        },
        "id": "bwP4ernC263c",
        "outputId": "e738f781-1526-4e96-e472-cc6ffb6c548c"
      },
      "source": [
        "#Esto no se bebe hacer, aca solo estoy viendo cosas para mí\r\n",
        "rdd_1.collect()"
      ],
      "execution_count": 23,
      "outputs": [
        {
          "output_type": "execute_result",
          "data": {
            "text/plain": [
              "[2, 4, 7, 9, 8, 1, 2, 0, 1, 2]"
            ]
          },
          "metadata": {
            "tags": []
          },
          "execution_count": 23
        }
      ]
    },
    {
      "cell_type": "code",
      "metadata": {
        "colab": {
          "base_uri": "https://localhost:8080/"
        },
        "id": "8WpJlIQN266i",
        "outputId": "fd471358-255f-49a0-b7a0-6590b363bbf7"
      },
      "source": [
        "#Esto no se hace, es solo para ver como queda el formato de los nuevos registros como tuplas\r\n",
        "rdd_1.map(lambda x: (x,1)).collect()"
      ],
      "execution_count": 24,
      "outputs": [
        {
          "output_type": "execute_result",
          "data": {
            "text/plain": [
              "[(2, 1),\n",
              " (4, 1),\n",
              " (7, 1),\n",
              " (9, 1),\n",
              " (8, 1),\n",
              " (1, 1),\n",
              " (2, 1),\n",
              " (0, 1),\n",
              " (1, 1),\n",
              " (2, 1)]"
            ]
          },
          "metadata": {
            "tags": []
          },
          "execution_count": 24
        }
      ]
    },
    {
      "cell_type": "markdown",
      "metadata": {
        "id": "JcRow408DL4K"
      },
      "source": [
        "* ALTO: solo para aclarar. ¿Cuántos registros tengo por clave? tomando como clave a cada número:"
      ]
    },
    {
      "cell_type": "code",
      "metadata": {
        "colab": {
          "base_uri": "https://localhost:8080/"
        },
        "id": "tyDyNlCM269h",
        "outputId": "dcd8fb93-27ec-46b4-ba4c-47624cee0516"
      },
      "source": [
        "rdd_1.map(lambda x: (x,1)).countByKey()"
      ],
      "execution_count": 25,
      "outputs": [
        {
          "output_type": "execute_result",
          "data": {
            "text/plain": [
              "defaultdict(int, {0: 1, 1: 2, 2: 3, 4: 1, 7: 1, 8: 1, 9: 1})"
            ]
          },
          "metadata": {
            "tags": []
          },
          "execution_count": 25
        }
      ]
    },
    {
      "cell_type": "code",
      "metadata": {
        "colab": {
          "base_uri": "https://localhost:8080/"
        },
        "id": "hiQzpugE27AC",
        "outputId": "ae63b73b-ed85-49df-d6ff-92f4b18442bf"
      },
      "source": [
        "#Quiero, para los registros con clave = 2, saber su cantidad:\r\n",
        "rdd_1.map(lambda x: (x,1)).countByKey()[2]"
      ],
      "execution_count": 26,
      "outputs": [
        {
          "output_type": "execute_result",
          "data": {
            "text/plain": [
              "3"
            ]
          },
          "metadata": {
            "tags": []
          },
          "execution_count": 26
        }
      ]
    },
    {
      "cell_type": "code",
      "metadata": {
        "colab": {
          "base_uri": "https://localhost:8080/"
        },
        "id": "6yHzIytv27C3",
        "outputId": "5886bcdb-9331-4fd6-b6df-bcda597e8291"
      },
      "source": [
        "#las cantidades asociadas a las claves las obtengo con values()\r\n",
        "rdd_1.map(lambda x: (x,1)).countByKey().values()"
      ],
      "execution_count": 27,
      "outputs": [
        {
          "output_type": "execute_result",
          "data": {
            "text/plain": [
              "dict_values([3, 1, 1, 1, 1, 2, 1])"
            ]
          },
          "metadata": {
            "tags": []
          },
          "execution_count": 27
        }
      ]
    },
    {
      "cell_type": "code",
      "metadata": {
        "colab": {
          "base_uri": "https://localhost:8080/"
        },
        "id": "7hNrJsqE27FK",
        "outputId": "b10c2ef8-b8e8-44b3-d5ab-7d0a8317f7fa"
      },
      "source": [
        "rdd_1.map(lambda x: (x,1)).countByKey()[0]"
      ],
      "execution_count": 28,
      "outputs": [
        {
          "output_type": "execute_result",
          "data": {
            "text/plain": [
              "1"
            ]
          },
          "metadata": {
            "tags": []
          },
          "execution_count": 28
        }
      ]
    },
    {
      "cell_type": "code",
      "metadata": {
        "colab": {
          "base_uri": "https://localhost:8080/"
        },
        "id": "27EOC4KV0jpk",
        "outputId": "7306669f-de0c-4118-e07f-81b9d00491b9"
      },
      "source": [
        "#Podria obtener la cantidad de registros asociados a la clave \"2\" de otra manera, que es mucho más eficiiente\r\n",
        "rdd_1.map(lambda x: (x,1)).reduceByKey(lambda x,y: x+y).collect()"
      ],
      "execution_count": 50,
      "outputs": [
        {
          "output_type": "execute_result",
          "data": {
            "text/plain": [
              "[(2, 3), (4, 1), (8, 1), (0, 1), (7, 1), (9, 1), (1, 2)]"
            ]
          },
          "metadata": {
            "tags": []
          },
          "execution_count": 50
        }
      ]
    },
    {
      "cell_type": "code",
      "metadata": {
        "colab": {
          "base_uri": "https://localhost:8080/"
        },
        "id": "55X06dDN1wMS",
        "outputId": "c8e03c29-f3b5-4a41-a876-be243688c87a"
      },
      "source": [
        "#Como reduceByKey me devuelve un RDD ya que es una transformación puedo seguir aplicando transformaciones\r\n",
        "rdd_1.map(lambda x: (x,1)).reduceByKey(lambda x,y: x+y).filter(lambda x:x[0]==2).collect()"
      ],
      "execution_count": 52,
      "outputs": [
        {
          "output_type": "execute_result",
          "data": {
            "text/plain": [
              "[(2, 3)]"
            ]
          },
          "metadata": {
            "tags": []
          },
          "execution_count": 52
        }
      ]
    },
    {
      "cell_type": "code",
      "metadata": {
        "colab": {
          "base_uri": "https://localhost:8080/"
        },
        "id": "DrevMA9m2Rd4",
        "outputId": "bea4035e-b362-4d19-8d2a-ec71019e4da2"
      },
      "source": [
        "rdd_1.map(lambda x: (x,1)).reduceByKey(lambda x,y: x+y).filter(lambda x:x[0]==2).collect()[0]"
      ],
      "execution_count": 59,
      "outputs": [
        {
          "output_type": "execute_result",
          "data": {
            "text/plain": [
              "(2, 3)"
            ]
          },
          "metadata": {
            "tags": []
          },
          "execution_count": 59
        }
      ]
    },
    {
      "cell_type": "code",
      "metadata": {
        "colab": {
          "base_uri": "https://localhost:8080/"
        },
        "id": "4i2Eca-25PXw",
        "outputId": "78e6f74c-52e9-48a2-e8a1-830c6e6af61d"
      },
      "source": [
        "rdd_1.map(lambda x: (x,1)).reduceByKey(lambda x,y: x+y).filter(lambda x:x[0]==2).collect()[0][1]"
      ],
      "execution_count": 60,
      "outputs": [
        {
          "output_type": "execute_result",
          "data": {
            "text/plain": [
              "3"
            ]
          },
          "metadata": {
            "tags": []
          },
          "execution_count": 60
        }
      ]
    },
    {
      "cell_type": "markdown",
      "metadata": {
        "id": "b_6Cu3AQEWwm"
      },
      "source": [
        "#### Ahora sigo con el cálculo del promedio (Ver que en el reduce no puedo dar nuevo formato al los registros, debo respetar las tuplas, acá en el primer comonente de la tupla pongo la suma total acumulada y en la segunda componente pongo el total de numeros que sumé)"
      ]
    },
    {
      "cell_type": "code",
      "metadata": {
        "colab": {
          "base_uri": "https://localhost:8080/"
        },
        "id": "dtykEnM727H3",
        "outputId": "e8029064-d51a-4706-d587-e7a5b8e0bca7"
      },
      "source": [
        "rdd_1.map(lambda x: (x,1)).reduce(lambda x,y: (x[0] + y[0], x[1] + y[1] ))"
      ],
      "execution_count": 39,
      "outputs": [
        {
          "output_type": "execute_result",
          "data": {
            "text/plain": [
              "(36, 10)"
            ]
          },
          "metadata": {
            "tags": []
          },
          "execution_count": 39
        }
      ]
    },
    {
      "cell_type": "code",
      "metadata": {
        "id": "7X0arOFDuCg4"
      },
      "source": [
        "result = rdd_1.map(lambda x: (x,1)).reduce(lambda x,y: (x[0] + y[0], x[1] + y[1] ))"
      ],
      "execution_count": 40,
      "outputs": []
    },
    {
      "cell_type": "code",
      "metadata": {
        "colab": {
          "base_uri": "https://localhost:8080/"
        },
        "id": "1lBkVmP3Enr6",
        "outputId": "178d73b1-7215-4e2b-9576-bd32e5afe28a"
      },
      "source": [
        "result"
      ],
      "execution_count": 41,
      "outputs": [
        {
          "output_type": "execute_result",
          "data": {
            "text/plain": [
              "(36, 10)"
            ]
          },
          "metadata": {
            "tags": []
          },
          "execution_count": 41
        }
      ]
    },
    {
      "cell_type": "code",
      "metadata": {
        "colab": {
          "base_uri": "https://localhost:8080/"
        },
        "id": "NXlQjvPhEwBk",
        "outputId": "76ebc11f-3e85-4bee-ab63-33605468d93b"
      },
      "source": [
        "result[0]"
      ],
      "execution_count": 42,
      "outputs": [
        {
          "output_type": "execute_result",
          "data": {
            "text/plain": [
              "36"
            ]
          },
          "metadata": {
            "tags": []
          },
          "execution_count": 42
        }
      ]
    },
    {
      "cell_type": "markdown",
      "metadata": {
        "id": "VwaJXqzOIF_-"
      },
      "source": [
        "* Ojo reduce me devuelve solo un registro con el formato del tipo de dato de cada registro del RDD.\r\n",
        "* Ya no tengo más al RDD tengo el tipo de dato que tenían los registros que estaba en el RDD. Por lo que a ese tipo de datos luego del \"reduce\" no puedo aplicar transformaciónes ni acciones"
      ]
    },
    {
      "cell_type": "code",
      "metadata": {
        "colab": {
          "base_uri": "https://localhost:8080/"
        },
        "id": "0v9fHfIqHqJa",
        "outputId": "45e1b6ab-605e-4d06-8fa2-505a26e7eda4"
      },
      "source": [
        "type(result)"
      ],
      "execution_count": 43,
      "outputs": [
        {
          "output_type": "execute_result",
          "data": {
            "text/plain": [
              "tuple"
            ]
          },
          "metadata": {
            "tags": []
          },
          "execution_count": 43
        }
      ]
    },
    {
      "cell_type": "code",
      "metadata": {
        "colab": {
          "base_uri": "https://localhost:8080/"
        },
        "id": "by416t5_EoyL",
        "outputId": "8bc130d0-c28f-4524-b5cd-3d0de6bc8fef"
      },
      "source": [
        "promedio = result[0]/result[1]\r\n",
        "promedio"
      ],
      "execution_count": 44,
      "outputs": [
        {
          "output_type": "execute_result",
          "data": {
            "text/plain": [
              "3.6"
            ]
          },
          "metadata": {
            "tags": []
          },
          "execution_count": 44
        }
      ]
    },
    {
      "cell_type": "markdown",
      "metadata": {
        "id": "l8O-yeQgHN5I"
      },
      "source": [
        "### Esto está mal ojo!!!!"
      ]
    },
    {
      "cell_type": "code",
      "metadata": {
        "id": "m8e7bYAiEo38"
      },
      "source": [
        "#Esto está mal!!! luego de una acción no puedo aplicar una trasformación. Además luego del Reduce ya no tengo un RDD\r\n",
        "#rdd_1.map(lambda x: (x,1)).reduce(lambda x,y: (x[0] + y[0], x[1] + y[1] )).map(lambda x:x)"
      ],
      "execution_count": 45,
      "outputs": []
    },
    {
      "cell_type": "markdown",
      "metadata": {
        "id": "x4CYyU3CLuAZ"
      },
      "source": [
        "* Forma 2 (no utilizo tuplas sino que solamente obtengo la suma de los números(registros) y utilizo la acción count para luego calcular el promedio)"
      ]
    },
    {
      "cell_type": "code",
      "metadata": {
        "id": "XqsFXSOuEo-M"
      },
      "source": [
        "cant_reg = rdd_1.count()"
      ],
      "execution_count": 46,
      "outputs": []
    },
    {
      "cell_type": "code",
      "metadata": {
        "id": "PHNZ9ZA7EpBO"
      },
      "source": [
        "total_suma = rdd_1.reduce(lambda x,y: x+y)"
      ],
      "execution_count": 47,
      "outputs": []
    },
    {
      "cell_type": "code",
      "metadata": {
        "colab": {
          "base_uri": "https://localhost:8080/"
        },
        "id": "XlSMcjXjEpER",
        "outputId": "2b2238e9-d1f4-421c-9d0b-05be2d59531e"
      },
      "source": [
        "promedio = total_suma/cant_reg\r\n",
        "promedio"
      ],
      "execution_count": 48,
      "outputs": [
        {
          "output_type": "execute_result",
          "data": {
            "text/plain": [
              "3.6"
            ]
          },
          "metadata": {
            "tags": []
          },
          "execution_count": 48
        }
      ]
    },
    {
      "cell_type": "markdown",
      "metadata": {
        "id": "GdqiwuxC_vtQ"
      },
      "source": [
        "##Map y FlatMap"
      ]
    },
    {
      "cell_type": "code",
      "metadata": {
        "colab": {
          "base_uri": "https://localhost:8080/"
        },
        "id": "8YpJyCSEEpHA",
        "outputId": "d54c0a7b-6d5f-44b1-f85e-eccec6406ae1"
      },
      "source": [
        "simpleRDD = sc.parallelize([2, 3, 4])\r\n",
        "print(simpleRDD.collect())\r\n",
        "print(\"\")\r\n",
        "#Con map sigo manteniendo la misma cantidad de registros = 3, antes cada registro era un número ahora\r\n",
        "#cada registro es una lista que tiene un \"1\" y ese número.\r\n",
        "print(\"map\")\r\n",
        "print(simpleRDD.map(lambda x: [1, x]).collect())\r\n",
        "print(simpleRDD.map(lambda x: (1, x)).collect())\r\n",
        "print(simpleRDD.map(lambda x: [(1, x)]).collect())\r\n",
        "print(\"\")\r\n",
        "print(\"flatMap \")\r\n",
        "#Con flatMap\r\n",
        "print(simpleRDD.flatMap(lambda x: [1, x]).collect())\r\n",
        "print(simpleRDD.flatMap(lambda x: (1, x)).collect())\r\n",
        "print(simpleRDD.flatMap(lambda x: [(1, x)]).collect())"
      ],
      "execution_count": 64,
      "outputs": [
        {
          "output_type": "stream",
          "text": [
            "[2, 3, 4]\n",
            "\n",
            "map\n",
            "[[1, 2], [1, 3], [1, 4]]\n",
            "[(1, 2), (1, 3), (1, 4)]\n",
            "[[(1, 2)], [(1, 3)], [(1, 4)]]\n",
            "\n",
            "flatMap \n",
            "[1, 2, 1, 3, 1, 4]\n",
            "[1, 2, 1, 3, 1, 4]\n",
            "[(1, 2), (1, 3), (1, 4)]\n"
          ],
          "name": "stdout"
        }
      ]
    },
    {
      "cell_type": "code",
      "metadata": {
        "id": "DEHZw8Z5EpKI"
      },
      "source": [
        ""
      ],
      "execution_count": 38,
      "outputs": []
    },
    {
      "cell_type": "code",
      "metadata": {
        "id": "l316f89XEpMV"
      },
      "source": [
        ""
      ],
      "execution_count": 38,
      "outputs": []
    },
    {
      "cell_type": "code",
      "metadata": {
        "id": "x-IUpl-ZEpPL"
      },
      "source": [
        ""
      ],
      "execution_count": 38,
      "outputs": []
    },
    {
      "cell_type": "code",
      "metadata": {
        "id": "dXR9FXolEpR6"
      },
      "source": [
        ""
      ],
      "execution_count": 38,
      "outputs": []
    },
    {
      "cell_type": "code",
      "metadata": {
        "id": "OPZzlGYSEpUg"
      },
      "source": [
        ""
      ],
      "execution_count": 38,
      "outputs": []
    },
    {
      "cell_type": "code",
      "metadata": {
        "id": "Bk9sAcVEEpXh"
      },
      "source": [
        ""
      ],
      "execution_count": 38,
      "outputs": []
    }
  ]
}