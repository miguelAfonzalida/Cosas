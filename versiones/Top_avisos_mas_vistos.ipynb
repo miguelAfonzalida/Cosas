{
 "cells": [
  {
   "cell_type": "code",
   "execution_count": 254,
   "metadata": {},
   "outputs": [],
   "source": [
    "# importacion general de librerias y de visualizacion (matplotlib y seaborn)\n",
    "import pandas as pd\n",
    "import numpy as np\n",
    "import matplotlib.pyplot as plt\n",
    "import seaborn as sns\n",
    "\n",
    "%matplotlib inline\n",
    "\n",
    "plt.style.use('default') \n",
    "\n",
    "sns.set(style=\"whitegrid\") # seteando tipo de grid en seaborn"
   ]
  },
  {
   "cell_type": "code",
   "execution_count": 282,
   "metadata": {},
   "outputs": [],
   "source": [
    "fiuba_3=pd.read_csv('fiuba_3_vistas.csv')"
   ]
  },
  {
   "cell_type": "code",
   "execution_count": 288,
   "metadata": {},
   "outputs": [
    {
     "data": {
      "text/html": [
       "<div>\n",
       "<style scoped>\n",
       "    .dataframe tbody tr th:only-of-type {\n",
       "        vertical-align: middle;\n",
       "    }\n",
       "\n",
       "    .dataframe tbody tr th {\n",
       "        vertical-align: top;\n",
       "    }\n",
       "\n",
       "    .dataframe thead th {\n",
       "        text-align: right;\n",
       "    }\n",
       "</style>\n",
       "<table border=\"1\" class=\"dataframe\">\n",
       "  <thead>\n",
       "    <tr style=\"text-align: right;\">\n",
       "      <th></th>\n",
       "      <th>idAviso</th>\n",
       "      <th>timestamp</th>\n",
       "      <th>idpostulante</th>\n",
       "    </tr>\n",
       "  </thead>\n",
       "  <tbody>\n",
       "    <tr>\n",
       "      <th>0</th>\n",
       "      <td>1111780242</td>\n",
       "      <td>2018-02-23T13:38:13.187-0500</td>\n",
       "      <td>YjVJQ6Z</td>\n",
       "    </tr>\n",
       "    <tr>\n",
       "      <th>1</th>\n",
       "      <td>1112263876</td>\n",
       "      <td>2018-02-23T13:38:14.296-0500</td>\n",
       "      <td>BmVpYoR</td>\n",
       "    </tr>\n",
       "    <tr>\n",
       "      <th>2</th>\n",
       "      <td>1112327963</td>\n",
       "      <td>2018-02-23T13:38:14.329-0500</td>\n",
       "      <td>wVkBzZd</td>\n",
       "    </tr>\n",
       "    <tr>\n",
       "      <th>3</th>\n",
       "      <td>1112318643</td>\n",
       "      <td>2018-02-23T13:38:17.921-0500</td>\n",
       "      <td>OqmP9pv</td>\n",
       "    </tr>\n",
       "    <tr>\n",
       "      <th>4</th>\n",
       "      <td>1111903673</td>\n",
       "      <td>2018-02-23T13:38:18.973-0500</td>\n",
       "      <td>DrpbXDP</td>\n",
       "    </tr>\n",
       "  </tbody>\n",
       "</table>\n",
       "</div>"
      ],
      "text/plain": [
       "      idAviso                     timestamp idpostulante\n",
       "0  1111780242  2018-02-23T13:38:13.187-0500      YjVJQ6Z\n",
       "1  1112263876  2018-02-23T13:38:14.296-0500      BmVpYoR\n",
       "2  1112327963  2018-02-23T13:38:14.329-0500      wVkBzZd\n",
       "3  1112318643  2018-02-23T13:38:17.921-0500      OqmP9pv\n",
       "4  1111903673  2018-02-23T13:38:18.973-0500      DrpbXDP"
      ]
     },
     "execution_count": 288,
     "metadata": {},
     "output_type": "execute_result"
    }
   ],
   "source": [
    "#Visualiza los primeros valores de Data Farama para ver que contiene\n",
    "fiuba_3.head()"
   ]
  },
  {
   "cell_type": "code",
   "execution_count": 297,
   "metadata": {},
   "outputs": [
    {
     "name": "stdout",
     "output_type": "stream",
     "text": [
      "<class 'pandas.core.frame.DataFrame'>\n",
      "RangeIndex: 961897 entries, 0 to 961896\n",
      "Data columns (total 3 columns):\n",
      "idAviso         961897 non-null int64\n",
      "timestamp       961897 non-null object\n",
      "idpostulante    961897 non-null object\n",
      "dtypes: int64(1), object(2)\n",
      "memory usage: 22.0+ MB\n"
     ]
    }
   ],
   "source": [
    "#veo mas informacion del DF\n",
    "fiuba_3.info()"
   ]
  },
  {
   "cell_type": "code",
   "execution_count": 298,
   "metadata": {},
   "outputs": [],
   "source": [
    "df3=pd.DataFrame(fiuba_3)"
   ]
  },
  {
   "cell_type": "code",
   "execution_count": 299,
   "metadata": {},
   "outputs": [],
   "source": [
    "#me quedo con la columa idaviso\n",
    "avisos=df3['idAviso']"
   ]
  },
  {
   "cell_type": "code",
   "execution_count": 300,
   "metadata": {},
   "outputs": [
    {
     "data": {
      "text/plain": [
       "1112363488    4169\n",
       "1112359836    4120\n",
       "1112352317    4003\n",
       "1112366909    3669\n",
       "1112355872    3472\n",
       "Name: idAviso, dtype: int64"
      ]
     },
     "execution_count": 300,
     "metadata": {},
     "output_type": "execute_result"
    }
   ],
   "source": [
    "#Los 5 avisos mas vistos y cuantas veces fueron vistos\n",
    "avisos.value_counts().head()"
   ]
  },
  {
   "cell_type": "code",
   "execution_count": 301,
   "metadata": {},
   "outputs": [],
   "source": [
    "fiuba_6=pd.read_csv('fiuba_6_avisos_detalle.csv')"
   ]
  },
  {
   "cell_type": "code",
   "execution_count": 302,
   "metadata": {},
   "outputs": [
    {
     "name": "stdout",
     "output_type": "stream",
     "text": [
      "<class 'pandas.core.frame.DataFrame'>\n",
      "RangeIndex: 13534 entries, 0 to 13533\n",
      "Data columns (total 11 columns):\n",
      "idaviso                 13534 non-null int64\n",
      "idpais                  13534 non-null int64\n",
      "titulo                  13534 non-null object\n",
      "descripcion             13534 non-null object\n",
      "nombre_zona             13534 non-null object\n",
      "ciudad                  47 non-null object\n",
      "mapacalle               872 non-null object\n",
      "tipo_de_trabajo         13534 non-null object\n",
      "nivel_laboral           13534 non-null object\n",
      "nombre_area             13534 non-null object\n",
      "denominacion_empresa    13529 non-null object\n",
      "dtypes: int64(2), object(9)\n",
      "memory usage: 1.1+ MB\n"
     ]
    }
   ],
   "source": [
    "fiuba_6.info()"
   ]
  },
  {
   "cell_type": "code",
   "execution_count": 303,
   "metadata": {},
   "outputs": [],
   "source": [
    "#hago un merge teniendo en cuenta los idaviso para quedarme con los online\n",
    "avisos_con_descripcion=pd.DataFrame(fiuba_6)"
   ]
  },
  {
   "cell_type": "code",
   "execution_count": 304,
   "metadata": {},
   "outputs": [
    {
     "name": "stdout",
     "output_type": "stream",
     "text": [
      "<class 'pandas.core.frame.DataFrame'>\n",
      "RangeIndex: 13534 entries, 0 to 13533\n",
      "Data columns (total 11 columns):\n",
      "idaviso                 13534 non-null int64\n",
      "idpais                  13534 non-null int64\n",
      "titulo                  13534 non-null object\n",
      "descripcion             13534 non-null object\n",
      "nombre_zona             13534 non-null object\n",
      "ciudad                  47 non-null object\n",
      "mapacalle               872 non-null object\n",
      "tipo_de_trabajo         13534 non-null object\n",
      "nivel_laboral           13534 non-null object\n",
      "nombre_area             13534 non-null object\n",
      "denominacion_empresa    13529 non-null object\n",
      "dtypes: int64(2), object(9)\n",
      "memory usage: 1.1+ MB\n"
     ]
    }
   ],
   "source": [
    "avisos_con_descripcion.info()"
   ]
  },
  {
   "cell_type": "code",
   "execution_count": 305,
   "metadata": {},
   "outputs": [
    {
     "data": {
      "text/html": [
       "<div>\n",
       "<style scoped>\n",
       "    .dataframe tbody tr th:only-of-type {\n",
       "        vertical-align: middle;\n",
       "    }\n",
       "\n",
       "    .dataframe tbody tr th {\n",
       "        vertical-align: top;\n",
       "    }\n",
       "\n",
       "    .dataframe thead th {\n",
       "        text-align: right;\n",
       "    }\n",
       "</style>\n",
       "<table border=\"1\" class=\"dataframe\">\n",
       "  <thead>\n",
       "    <tr style=\"text-align: right;\">\n",
       "      <th></th>\n",
       "      <th>idaviso</th>\n",
       "      <th>idpais</th>\n",
       "      <th>titulo</th>\n",
       "      <th>descripcion</th>\n",
       "      <th>nombre_zona</th>\n",
       "      <th>ciudad</th>\n",
       "      <th>mapacalle</th>\n",
       "      <th>tipo_de_trabajo</th>\n",
       "      <th>nivel_laboral</th>\n",
       "      <th>nombre_area</th>\n",
       "      <th>denominacion_empresa</th>\n",
       "    </tr>\n",
       "  </thead>\n",
       "  <tbody>\n",
       "    <tr>\n",
       "      <th>0</th>\n",
       "      <td>8725750</td>\n",
       "      <td>1</td>\n",
       "      <td>VENDEDOR/A PROVINCIA DE SANTA FE</td>\n",
       "      <td>&lt;p&gt;&lt;strong&gt;&lt;strong&gt;Empresa:&lt;/strong&gt;&lt;/strong&gt; ...</td>\n",
       "      <td>Gran Buenos Aires</td>\n",
       "      <td>NaN</td>\n",
       "      <td>NaN</td>\n",
       "      <td>Full-time</td>\n",
       "      <td>Senior / Semi-Senior</td>\n",
       "      <td>Comercial</td>\n",
       "      <td>VENTOR</td>\n",
       "    </tr>\n",
       "    <tr>\n",
       "      <th>1</th>\n",
       "      <td>17903700</td>\n",
       "      <td>1</td>\n",
       "      <td>Enfermeras</td>\n",
       "      <td>&lt;p&gt;Solicitamos para importante cadena de farma...</td>\n",
       "      <td>Gran Buenos Aires</td>\n",
       "      <td>NaN</td>\n",
       "      <td>NaN</td>\n",
       "      <td>Full-time</td>\n",
       "      <td>Senior / Semi-Senior</td>\n",
       "      <td>Salud</td>\n",
       "      <td>Farmacias Central Oeste</td>\n",
       "    </tr>\n",
       "    <tr>\n",
       "      <th>2</th>\n",
       "      <td>1000150677</td>\n",
       "      <td>1</td>\n",
       "      <td>Chofer de taxi</td>\n",
       "      <td>&lt;p&gt;TE GUSTA MANEJAR? QUERES GANAR PLATA HACIEN...</td>\n",
       "      <td>Capital Federal</td>\n",
       "      <td>NaN</td>\n",
       "      <td>Empedrado 2336</td>\n",
       "      <td>Full-time</td>\n",
       "      <td>Senior / Semi-Senior</td>\n",
       "      <td>Transporte</td>\n",
       "      <td>FAMITAX SRL</td>\n",
       "    </tr>\n",
       "    <tr>\n",
       "      <th>3</th>\n",
       "      <td>1000610287</td>\n",
       "      <td>1</td>\n",
       "      <td>CHOFER DE CAMIONETA BAHIA BLANCA - PUNTA ALTA</td>\n",
       "      <td>&lt;p&gt;&lt;strong&gt;Somos una empresa multinacional que...</td>\n",
       "      <td>Gran Buenos Aires</td>\n",
       "      <td>NaN</td>\n",
       "      <td>NaN</td>\n",
       "      <td>Full-time</td>\n",
       "      <td>Senior / Semi-Senior</td>\n",
       "      <td>Transporte</td>\n",
       "      <td>Wurth Argentina S.A</td>\n",
       "    </tr>\n",
       "    <tr>\n",
       "      <th>4</th>\n",
       "      <td>1000872556</td>\n",
       "      <td>1</td>\n",
       "      <td>Operarios de Planta - Rubro Electrodomésticos</td>\n",
       "      <td>&lt;p&gt;&lt;strong&gt;OPERARIOS DE PLANTA&lt;/strong&gt;&lt;/p&gt;&lt;p&gt;...</td>\n",
       "      <td>Gran Buenos Aires</td>\n",
       "      <td>NaN</td>\n",
       "      <td>NaN</td>\n",
       "      <td>Full-time</td>\n",
       "      <td>Senior / Semi-Senior</td>\n",
       "      <td>Producción</td>\n",
       "      <td>ELECTRO OUTLET SRL</td>\n",
       "    </tr>\n",
       "  </tbody>\n",
       "</table>\n",
       "</div>"
      ],
      "text/plain": [
       "      idaviso  idpais                                         titulo  \\\n",
       "0     8725750       1               VENDEDOR/A PROVINCIA DE SANTA FE   \n",
       "1    17903700       1                                     Enfermeras   \n",
       "2  1000150677       1                                 Chofer de taxi   \n",
       "3  1000610287       1  CHOFER DE CAMIONETA BAHIA BLANCA - PUNTA ALTA   \n",
       "4  1000872556       1  Operarios de Planta - Rubro Electrodomésticos   \n",
       "\n",
       "                                         descripcion        nombre_zona  \\\n",
       "0  <p><strong><strong>Empresa:</strong></strong> ...  Gran Buenos Aires   \n",
       "1  <p>Solicitamos para importante cadena de farma...  Gran Buenos Aires   \n",
       "2  <p>TE GUSTA MANEJAR? QUERES GANAR PLATA HACIEN...    Capital Federal   \n",
       "3  <p><strong>Somos una empresa multinacional que...  Gran Buenos Aires   \n",
       "4  <p><strong>OPERARIOS DE PLANTA</strong></p><p>...  Gran Buenos Aires   \n",
       "\n",
       "  ciudad       mapacalle tipo_de_trabajo         nivel_laboral nombre_area  \\\n",
       "0    NaN             NaN       Full-time  Senior / Semi-Senior   Comercial   \n",
       "1    NaN             NaN       Full-time  Senior / Semi-Senior       Salud   \n",
       "2    NaN  Empedrado 2336       Full-time  Senior / Semi-Senior  Transporte   \n",
       "3    NaN             NaN       Full-time  Senior / Semi-Senior  Transporte   \n",
       "4    NaN             NaN       Full-time  Senior / Semi-Senior  Producción   \n",
       "\n",
       "      denominacion_empresa  \n",
       "0                   VENTOR  \n",
       "1  Farmacias Central Oeste  \n",
       "2              FAMITAX SRL  \n",
       "3      Wurth Argentina S.A  \n",
       "4       ELECTRO OUTLET SRL  "
      ]
     },
     "execution_count": 305,
     "metadata": {},
     "output_type": "execute_result"
    }
   ],
   "source": [
    "avisos_con_descripcion.head()"
   ]
  },
  {
   "cell_type": "code",
   "execution_count": 306,
   "metadata": {},
   "outputs": [],
   "source": [
    "avisos_reducidos=avisos_con_descripcion[['idaviso','titulo','nombre_zona']]"
   ]
  },
  {
   "cell_type": "code",
   "execution_count": 307,
   "metadata": {},
   "outputs": [
    {
     "data": {
      "text/html": [
       "<div>\n",
       "<style scoped>\n",
       "    .dataframe tbody tr th:only-of-type {\n",
       "        vertical-align: middle;\n",
       "    }\n",
       "\n",
       "    .dataframe tbody tr th {\n",
       "        vertical-align: top;\n",
       "    }\n",
       "\n",
       "    .dataframe thead th {\n",
       "        text-align: right;\n",
       "    }\n",
       "</style>\n",
       "<table border=\"1\" class=\"dataframe\">\n",
       "  <thead>\n",
       "    <tr style=\"text-align: right;\">\n",
       "      <th></th>\n",
       "      <th>idaviso</th>\n",
       "      <th>titulo</th>\n",
       "      <th>nombre_zona</th>\n",
       "    </tr>\n",
       "  </thead>\n",
       "  <tbody>\n",
       "    <tr>\n",
       "      <th>0</th>\n",
       "      <td>8725750</td>\n",
       "      <td>VENDEDOR/A PROVINCIA DE SANTA FE</td>\n",
       "      <td>Gran Buenos Aires</td>\n",
       "    </tr>\n",
       "    <tr>\n",
       "      <th>1</th>\n",
       "      <td>17903700</td>\n",
       "      <td>Enfermeras</td>\n",
       "      <td>Gran Buenos Aires</td>\n",
       "    </tr>\n",
       "    <tr>\n",
       "      <th>2</th>\n",
       "      <td>1000150677</td>\n",
       "      <td>Chofer de taxi</td>\n",
       "      <td>Capital Federal</td>\n",
       "    </tr>\n",
       "    <tr>\n",
       "      <th>3</th>\n",
       "      <td>1000610287</td>\n",
       "      <td>CHOFER DE CAMIONETA BAHIA BLANCA - PUNTA ALTA</td>\n",
       "      <td>Gran Buenos Aires</td>\n",
       "    </tr>\n",
       "    <tr>\n",
       "      <th>4</th>\n",
       "      <td>1000872556</td>\n",
       "      <td>Operarios de Planta - Rubro Electrodomésticos</td>\n",
       "      <td>Gran Buenos Aires</td>\n",
       "    </tr>\n",
       "  </tbody>\n",
       "</table>\n",
       "</div>"
      ],
      "text/plain": [
       "      idaviso                                         titulo  \\\n",
       "0     8725750               VENDEDOR/A PROVINCIA DE SANTA FE   \n",
       "1    17903700                                     Enfermeras   \n",
       "2  1000150677                                 Chofer de taxi   \n",
       "3  1000610287  CHOFER DE CAMIONETA BAHIA BLANCA - PUNTA ALTA   \n",
       "4  1000872556  Operarios de Planta - Rubro Electrodomésticos   \n",
       "\n",
       "         nombre_zona  \n",
       "0  Gran Buenos Aires  \n",
       "1  Gran Buenos Aires  \n",
       "2    Capital Federal  \n",
       "3  Gran Buenos Aires  \n",
       "4  Gran Buenos Aires  "
      ]
     },
     "execution_count": 307,
     "metadata": {},
     "output_type": "execute_result"
    }
   ],
   "source": [
    "avisos_reducidos.head()"
   ]
  },
  {
   "cell_type": "code",
   "execution_count": 308,
   "metadata": {},
   "outputs": [],
   "source": [
    "#los 5 avisos mas vistos\n",
    "maximos_vistos=avisos_reducidos[((avisos_reducidos['idaviso']==1112363488)|(avisos_reducidos['idaviso']==1112359836)\n",
    "                 |(avisos_reducidos['idaviso']==1112352317)|(avisos_reducidos['idaviso']==1112366909)|(avisos_reducidos['idaviso']==1112355872))]"
   ]
  },
  {
   "cell_type": "code",
   "execution_count": 309,
   "metadata": {},
   "outputs": [
    {
     "name": "stdout",
     "output_type": "stream",
     "text": [
      "<class 'pandas.core.frame.DataFrame'>\n",
      "Int64Index: 5 entries, 2569 to 7235\n",
      "Data columns (total 3 columns):\n",
      "idaviso        5 non-null int64\n",
      "titulo         5 non-null object\n",
      "nombre_zona    5 non-null object\n",
      "dtypes: int64(1), object(2)\n",
      "memory usage: 160.0+ bytes\n"
     ]
    }
   ],
   "source": [
    "maximos_vistos.info()"
   ]
  },
  {
   "cell_type": "code",
   "execution_count": 310,
   "metadata": {},
   "outputs": [
    {
     "data": {
      "text/html": [
       "<div>\n",
       "<style scoped>\n",
       "    .dataframe tbody tr th:only-of-type {\n",
       "        vertical-align: middle;\n",
       "    }\n",
       "\n",
       "    .dataframe tbody tr th {\n",
       "        vertical-align: top;\n",
       "    }\n",
       "\n",
       "    .dataframe thead th {\n",
       "        text-align: right;\n",
       "    }\n",
       "</style>\n",
       "<table border=\"1\" class=\"dataframe\">\n",
       "  <thead>\n",
       "    <tr style=\"text-align: right;\">\n",
       "      <th></th>\n",
       "      <th>idaviso</th>\n",
       "      <th>titulo</th>\n",
       "      <th>nombre_zona</th>\n",
       "    </tr>\n",
       "  </thead>\n",
       "  <tbody>\n",
       "    <tr>\n",
       "      <th>2569</th>\n",
       "      <td>1112352317</td>\n",
       "      <td>Representantes de Atención al Cliente Part Tim...</td>\n",
       "      <td>Gran Buenos Aires</td>\n",
       "    </tr>\n",
       "    <tr>\n",
       "      <th>4665</th>\n",
       "      <td>1112355872</td>\n",
       "      <td>Recepcionista/Asistente Administrativa</td>\n",
       "      <td>Gran Buenos Aires</td>\n",
       "    </tr>\n",
       "    <tr>\n",
       "      <th>4957</th>\n",
       "      <td>1112359836</td>\n",
       "      <td>Cajero de Sucursal - Contrato a Plazo Fijo</td>\n",
       "      <td>Gran Buenos Aires</td>\n",
       "    </tr>\n",
       "    <tr>\n",
       "      <th>5210</th>\n",
       "      <td>1112363488</td>\n",
       "      <td>Recepcionista para Agencia Marítima  (EVENTUAL)</td>\n",
       "      <td>Gran Buenos Aires</td>\n",
       "    </tr>\n",
       "    <tr>\n",
       "      <th>7235</th>\n",
       "      <td>1112366909</td>\n",
       "      <td>Representantes Telefónicos de Atención al Cliente</td>\n",
       "      <td>Gran Buenos Aires</td>\n",
       "    </tr>\n",
       "  </tbody>\n",
       "</table>\n",
       "</div>"
      ],
      "text/plain": [
       "         idaviso                                             titulo  \\\n",
       "2569  1112352317  Representantes de Atención al Cliente Part Tim...   \n",
       "4665  1112355872            Recepcionista/Asistente Administrativa    \n",
       "4957  1112359836         Cajero de Sucursal - Contrato a Plazo Fijo   \n",
       "5210  1112363488    Recepcionista para Agencia Marítima  (EVENTUAL)   \n",
       "7235  1112366909  Representantes Telefónicos de Atención al Cliente   \n",
       "\n",
       "            nombre_zona  \n",
       "2569  Gran Buenos Aires  \n",
       "4665  Gran Buenos Aires  \n",
       "4957  Gran Buenos Aires  \n",
       "5210  Gran Buenos Aires  \n",
       "7235  Gran Buenos Aires  "
      ]
     },
     "execution_count": 310,
     "metadata": {},
     "output_type": "execute_result"
    }
   ],
   "source": [
    "maximos_vistos\n"
   ]
  },
  {
   "cell_type": "code",
   "execution_count": 311,
   "metadata": {},
   "outputs": [
    {
     "name": "stderr",
     "output_type": "stream",
     "text": [
      "/home/mike/anaconda3/lib/python3.6/site-packages/ipykernel_launcher.py:1: SettingWithCopyWarning: \n",
      "A value is trying to be set on a copy of a slice from a DataFrame.\n",
      "Try using .loc[row_indexer,col_indexer] = value instead\n",
      "\n",
      "See the caveats in the documentation: http://pandas.pydata.org/pandas-docs/stable/indexing.html#indexing-view-versus-copy\n",
      "  \"\"\"Entry point for launching an IPython kernel.\n"
     ]
    }
   ],
   "source": [
    "maximos_vistos['numero_vistas']=(3472,4169,4120,3669,4003)\n"
   ]
  },
  {
   "cell_type": "code",
   "execution_count": 312,
   "metadata": {},
   "outputs": [
    {
     "name": "stdout",
     "output_type": "stream",
     "text": [
      "<class 'pandas.core.frame.DataFrame'>\n",
      "Int64Index: 5 entries, 2569 to 7235\n",
      "Data columns (total 4 columns):\n",
      "idaviso          5 non-null int64\n",
      "titulo           5 non-null object\n",
      "nombre_zona      5 non-null object\n",
      "numero_vistas    5 non-null int64\n",
      "dtypes: int64(2), object(2)\n",
      "memory usage: 200.0+ bytes\n"
     ]
    }
   ],
   "source": [
    "maximos_vistos.info()"
   ]
  },
  {
   "cell_type": "code",
   "execution_count": 313,
   "metadata": {},
   "outputs": [],
   "source": [
    "dfmax=pd.DataFrame"
   ]
  },
  {
   "cell_type": "code",
   "execution_count": 314,
   "metadata": {},
   "outputs": [
    {
     "data": {
      "text/html": [
       "<div>\n",
       "<style scoped>\n",
       "    .dataframe tbody tr th:only-of-type {\n",
       "        vertical-align: middle;\n",
       "    }\n",
       "\n",
       "    .dataframe tbody tr th {\n",
       "        vertical-align: top;\n",
       "    }\n",
       "\n",
       "    .dataframe thead th {\n",
       "        text-align: right;\n",
       "    }\n",
       "</style>\n",
       "<table border=\"1\" class=\"dataframe\">\n",
       "  <thead>\n",
       "    <tr style=\"text-align: right;\">\n",
       "      <th></th>\n",
       "      <th>numero_vistas</th>\n",
       "      <th>titulo</th>\n",
       "    </tr>\n",
       "  </thead>\n",
       "  <tbody>\n",
       "    <tr>\n",
       "      <th>2569</th>\n",
       "      <td>3472</td>\n",
       "      <td>Representantes de Atención al Cliente Part Tim...</td>\n",
       "    </tr>\n",
       "    <tr>\n",
       "      <th>4665</th>\n",
       "      <td>4169</td>\n",
       "      <td>Recepcionista/Asistente Administrativa</td>\n",
       "    </tr>\n",
       "    <tr>\n",
       "      <th>4957</th>\n",
       "      <td>4120</td>\n",
       "      <td>Cajero de Sucursal - Contrato a Plazo Fijo</td>\n",
       "    </tr>\n",
       "    <tr>\n",
       "      <th>5210</th>\n",
       "      <td>3669</td>\n",
       "      <td>Recepcionista para Agencia Marítima  (EVENTUAL)</td>\n",
       "    </tr>\n",
       "    <tr>\n",
       "      <th>7235</th>\n",
       "      <td>4003</td>\n",
       "      <td>Representantes Telefónicos de Atención al Cliente</td>\n",
       "    </tr>\n",
       "  </tbody>\n",
       "</table>\n",
       "</div>"
      ],
      "text/plain": [
       "      numero_vistas                                             titulo\n",
       "2569           3472  Representantes de Atención al Cliente Part Tim...\n",
       "4665           4169            Recepcionista/Asistente Administrativa \n",
       "4957           4120         Cajero de Sucursal - Contrato a Plazo Fijo\n",
       "5210           3669    Recepcionista para Agencia Marítima  (EVENTUAL)\n",
       "7235           4003  Representantes Telefónicos de Atención al Cliente"
      ]
     },
     "execution_count": 314,
     "metadata": {},
     "output_type": "execute_result"
    }
   ],
   "source": [
    "dfmax=maximos_vistos[['numero_vistas','titulo']]\n",
    "dfmax"
   ]
  },
  {
   "cell_type": "code",
   "execution_count": 315,
   "metadata": {},
   "outputs": [
    {
     "data": {
      "text/html": [
       "<div>\n",
       "<style scoped>\n",
       "    .dataframe tbody tr th:only-of-type {\n",
       "        vertical-align: middle;\n",
       "    }\n",
       "\n",
       "    .dataframe tbody tr th {\n",
       "        vertical-align: top;\n",
       "    }\n",
       "\n",
       "    .dataframe thead th {\n",
       "        text-align: right;\n",
       "    }\n",
       "</style>\n",
       "<table border=\"1\" class=\"dataframe\">\n",
       "  <thead>\n",
       "    <tr style=\"text-align: right;\">\n",
       "      <th></th>\n",
       "      <th>numero_vistas</th>\n",
       "      <th>titulo</th>\n",
       "    </tr>\n",
       "  </thead>\n",
       "  <tbody>\n",
       "    <tr>\n",
       "      <th>4665</th>\n",
       "      <td>4169</td>\n",
       "      <td>Recepcionista/Asistente Administrativa</td>\n",
       "    </tr>\n",
       "    <tr>\n",
       "      <th>4957</th>\n",
       "      <td>4120</td>\n",
       "      <td>Cajero de Sucursal - Contrato a Plazo Fijo</td>\n",
       "    </tr>\n",
       "    <tr>\n",
       "      <th>7235</th>\n",
       "      <td>4003</td>\n",
       "      <td>Representantes Telefónicos de Atención al Cliente</td>\n",
       "    </tr>\n",
       "    <tr>\n",
       "      <th>5210</th>\n",
       "      <td>3669</td>\n",
       "      <td>Recepcionista para Agencia Marítima  (EVENTUAL)</td>\n",
       "    </tr>\n",
       "    <tr>\n",
       "      <th>2569</th>\n",
       "      <td>3472</td>\n",
       "      <td>Representantes de Atención al Cliente Part Tim...</td>\n",
       "    </tr>\n",
       "  </tbody>\n",
       "</table>\n",
       "</div>"
      ],
      "text/plain": [
       "      numero_vistas                                             titulo\n",
       "4665           4169            Recepcionista/Asistente Administrativa \n",
       "4957           4120         Cajero de Sucursal - Contrato a Plazo Fijo\n",
       "7235           4003  Representantes Telefónicos de Atención al Cliente\n",
       "5210           3669    Recepcionista para Agencia Marítima  (EVENTUAL)\n",
       "2569           3472  Representantes de Atención al Cliente Part Tim..."
      ]
     },
     "execution_count": 315,
     "metadata": {},
     "output_type": "execute_result"
    }
   ],
   "source": [
    "#Lo ordeno por numero_vistas de mayor amenor\n",
    "orden=dfmax.sort_values(['numero_vistas'],ascending=False)\n",
    "orden"
   ]
  },
  {
   "cell_type": "code",
   "execution_count": 316,
   "metadata": {},
   "outputs": [
    {
     "data": {
      "image/png": "[encoded data removed]",
      "text/plain": [
       "<matplotlib.figure.Figure at 0x7f9d171c3940>"
      ]
     },
     "metadata": {},
     "output_type": "display_data"
    }
   ],
   "source": [
    "g = sns.barplot(x= dfmax['numero_vistas'], y=dfmax['titulo'])\n",
    "g.set_title(\"Top 5 de avisos mas vistos\", fontsize=18)\n",
    "g.set_xlabel(\"cantidad de vistas\", fontsize=12)\n",
    "g.set_ylabel(\"Descripcion del aviso\", fontsize=12);"
   ]
  }
 ],
 "metadata": {
  "kernelspec": {
   "display_name": "Python 3",
   "language": "python",
   "name": "python3"
  },
  "language_info": {
   "codemirror_mode": {
    "name": "ipython",
    "version": 3
   },
   "file_extension": ".py",
   "mimetype": "text/x-python",
   "name": "python",
   "nbconvert_exporter": "python",
   "pygments_lexer": "ipython3",
   "version": "3.6.4"
  }
 },
 "nbformat": 4,
 "nbformat_minor": 2
}
